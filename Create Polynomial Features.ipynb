{
 "cells": [
  {
   "cell_type": "code",
   "execution_count": 1,
   "metadata": {},
   "outputs": [
    {
     "name": "stderr",
     "output_type": "stream",
     "text": [
      "Using TensorFlow backend.\n"
     ]
    }
   ],
   "source": [
    "# custom\n",
    "from wrappers import data_processing as dp\n",
    "from wrappers import technical_analysis as ta\n",
    "from wrappers import modeling as mdl\n",
    "\n",
    "# basic\n",
    "import pandas as pd\n",
    "import numpy as np\n",
    "import matplotlib.pyplot as plt\n",
    "import sqlite3\n",
    "import datetime\n",
    "from datetime import datetime, date, timedelta\n",
    "from random import randint\n",
    "from time import sleep\n",
    "\n",
    "# ml\n",
    "from sklearn.preprocessing import PolynomialFeatures\n",
    "from sklearn.model_selection import cross_val_score as cv_score\n",
    "from sklearn.ensemble import RandomForestRegressor\n",
    "from keras.models import Sequential\n",
    "from keras.layers import Dense, LSTM, Dropout\n",
    "from sklearn.preprocessing import MinMaxScaler\n",
    "from sklearn.metrics import mean_squared_error\n",
    "from sklearn.preprocessing import StandardScaler\n",
    "from sklearn.metrics import mean_squared_error\n",
    "\n",
    "%matplotlib inline"
   ]
  },
  {
   "cell_type": "code",
   "execution_count": 2,
   "metadata": {
    "collapsed": true
   },
   "outputs": [],
   "source": [
    "# get the true y values / target for the ensemble data\n",
    "def get_target_values_for_ens(train_data, start_date, target_col, periods_ahead):\n",
    "    \n",
    "    # set index to dt\n",
    "    train_data.index = pd.to_datetime(train_data.date)\n",
    "    \n",
    "    # shift target col based on target periods ahead\n",
    "    orig_targ_col = train_data[target_col]\n",
    "    train_data['targ_shift'] = orig_targ_col.shift(-periods_ahead)\n",
    "    \n",
    "    # get RoC between current and future values\n",
    "    train_data['target'] = (train_data['targ_shift'] - orig_targ_col) / orig_targ_col\n",
    "    \n",
    "    # filter down to when the ensemble starts\n",
    "    date_filtered_target_col = train_data[train_data.index >= start_date]['target']\n",
    "    \n",
    "    return date_filtered_target_col\n",
    "\n",
    "# helper to get ranked features using random forrest regression\n",
    "def get_ranked_features(X, Y, model_params, col_names, nb_epochs):\n",
    "    \n",
    "    scores = {}\n",
    "    \n",
    "    for i in range(nb_epochs):\n",
    "        \n",
    "        # create / fit new random forest model\n",
    "        rf = RandomForestRegressor(**model_params)\n",
    "        rf.fit(X, Y)\n",
    "        \n",
    "        # loop through each col and add up the scores\n",
    "        for score, col in zip(map(lambda x: x, rf.feature_importances_), col_names):\n",
    "            if i == 0:\n",
    "                scores[col] = score\n",
    "            else:\n",
    "                scores[col] += score\n",
    "    \n",
    "    # sort the scores in descending order\n",
    "    sorted_scores = sorted(scores.items(), key=operator.itemgetter(1), reverse = True)\n",
    "    \n",
    "    return sorted_scores\n",
    "\n",
    "# helper to get top n features from ranked list\n",
    "def get_top_rf_features(scores, n):\n",
    "    top_features = [item[0] for item in scores[:n]]\n",
    "    return top_features"
   ]
  },
  {
   "cell_type": "markdown",
   "metadata": {},
   "source": [
    "# LOAD DATA"
   ]
  },
  {
   "cell_type": "code",
   "execution_count": 3,
   "metadata": {},
   "outputs": [
    {
     "name": "stdout",
     "output_type": "stream",
     "text": [
      "Init Samples: 841\n",
      "NaN Samples: 4\n"
     ]
    }
   ],
   "source": [
    "# load data\n",
    "df = pd.read_csv('train_full_6hr_2017-09-28.csv')\n",
    "\n",
    "# add dt index and filter down to dates that have twitter data\n",
    "data_start_date = datetime(2017, 3, 2)\n",
    "df.index = pd.to_datetime(df.date)\n",
    "df = df[df.index >= data_start_date]\n",
    "\n",
    "# add target col\n",
    "target_col = 'polo_usdteth_median_trade_price'\n",
    "df['target'] = get_target_values_for_ens(df, data_start_date, target_col, 4)\n",
    "df = df.drop(['date', 'targ_shift'], 1)\n",
    "\n",
    "# QA shape / NaN values\n",
    "print('Init Samples:', df.shape[0])\n",
    "print('NaN Samples:', df.shape[0]- df.dropna().shape[0])\n",
    "df = df.dropna()"
   ]
  },
  {
   "cell_type": "code",
   "execution_count": 4,
   "metadata": {},
   "outputs": [
    {
     "data": {
      "text/html": [
       "<div>\n",
       "<style>\n",
       "    .dataframe thead tr:only-child th {\n",
       "        text-align: right;\n",
       "    }\n",
       "\n",
       "    .dataframe thead th {\n",
       "        text-align: left;\n",
       "    }\n",
       "\n",
       "    .dataframe tbody tr th {\n",
       "        vertical-align: top;\n",
       "    }\n",
       "</style>\n",
       "<table border=\"1\" class=\"dataframe\">\n",
       "  <thead>\n",
       "    <tr style=\"text-align: right;\">\n",
       "      <th></th>\n",
       "      <th>polo_btceth_open</th>\n",
       "      <th>polo_btceth_high</th>\n",
       "      <th>polo_btceth_low</th>\n",
       "      <th>polo_btceth_close</th>\n",
       "      <th>polo_btceth_volume</th>\n",
       "      <th>polo_btceth_mean_trade_price</th>\n",
       "      <th>polo_btceth_median_trade_price</th>\n",
       "      <th>polo_btceth_open_close_change</th>\n",
       "      <th>polo_btceth_candle_range</th>\n",
       "      <th>polo_btceth_high_low_ratio</th>\n",
       "      <th>...</th>\n",
       "      <th>twitter_hashETH_tweets_bear_multiprt_avg</th>\n",
       "      <th>twitter_hashETH_tweets_bull_multifav_avg</th>\n",
       "      <th>twitter_hashETH_tweets_bear_multifav_avg</th>\n",
       "      <th>twitter_hashETH_tweets_bull_multipfollow_avg</th>\n",
       "      <th>twitter_hashETH_tweets_bear_multipfollow_avg</th>\n",
       "      <th>twitter_hashETH_tweets_bull_multipverif_avg</th>\n",
       "      <th>twitter_hashETH_tweets_bear_multipverif_avg</th>\n",
       "      <th>twitter_hashETH_tweets_bull_multipcustom_avg</th>\n",
       "      <th>twitter_hashETH_tweets_bear_multipcustom_avg</th>\n",
       "      <th>target</th>\n",
       "    </tr>\n",
       "    <tr>\n",
       "      <th>date</th>\n",
       "      <th></th>\n",
       "      <th></th>\n",
       "      <th></th>\n",
       "      <th></th>\n",
       "      <th></th>\n",
       "      <th></th>\n",
       "      <th></th>\n",
       "      <th></th>\n",
       "      <th></th>\n",
       "      <th></th>\n",
       "      <th></th>\n",
       "      <th></th>\n",
       "      <th></th>\n",
       "      <th></th>\n",
       "      <th></th>\n",
       "      <th></th>\n",
       "      <th></th>\n",
       "      <th></th>\n",
       "      <th></th>\n",
       "      <th></th>\n",
       "      <th></th>\n",
       "    </tr>\n",
       "  </thead>\n",
       "  <tbody>\n",
       "    <tr>\n",
       "      <th>2017-03-02 00:00:00</th>\n",
       "      <td>0.013700</td>\n",
       "      <td>0.014250</td>\n",
       "      <td>0.013599</td>\n",
       "      <td>0.014100</td>\n",
       "      <td>363291.274791</td>\n",
       "      <td>0.013978</td>\n",
       "      <td>0.014000</td>\n",
       "      <td>0.029222</td>\n",
       "      <td>0.000651</td>\n",
       "      <td>1.047869</td>\n",
       "      <td>...</td>\n",
       "      <td>0.0</td>\n",
       "      <td>0.0</td>\n",
       "      <td>0.0</td>\n",
       "      <td>0.0</td>\n",
       "      <td>0.0</td>\n",
       "      <td>0.0</td>\n",
       "      <td>0.0</td>\n",
       "      <td>0.0</td>\n",
       "      <td>0.0</td>\n",
       "      <td>0.156534</td>\n",
       "    </tr>\n",
       "    <tr>\n",
       "      <th>2017-03-02 06:00:00</th>\n",
       "      <td>0.014115</td>\n",
       "      <td>0.014903</td>\n",
       "      <td>0.013901</td>\n",
       "      <td>0.014879</td>\n",
       "      <td>209002.744141</td>\n",
       "      <td>0.014381</td>\n",
       "      <td>0.014265</td>\n",
       "      <td>0.054153</td>\n",
       "      <td>0.001002</td>\n",
       "      <td>1.072079</td>\n",
       "      <td>...</td>\n",
       "      <td>0.0</td>\n",
       "      <td>0.0</td>\n",
       "      <td>0.0</td>\n",
       "      <td>0.0</td>\n",
       "      <td>0.0</td>\n",
       "      <td>0.0</td>\n",
       "      <td>0.0</td>\n",
       "      <td>0.0</td>\n",
       "      <td>0.0</td>\n",
       "      <td>0.144889</td>\n",
       "    </tr>\n",
       "    <tr>\n",
       "      <th>2017-03-02 12:00:00</th>\n",
       "      <td>0.014880</td>\n",
       "      <td>0.015350</td>\n",
       "      <td>0.014530</td>\n",
       "      <td>0.014999</td>\n",
       "      <td>629504.941161</td>\n",
       "      <td>0.014988</td>\n",
       "      <td>0.015000</td>\n",
       "      <td>0.007997</td>\n",
       "      <td>0.000820</td>\n",
       "      <td>1.056435</td>\n",
       "      <td>...</td>\n",
       "      <td>0.0</td>\n",
       "      <td>0.0</td>\n",
       "      <td>0.0</td>\n",
       "      <td>0.0</td>\n",
       "      <td>0.0</td>\n",
       "      <td>0.0</td>\n",
       "      <td>0.0</td>\n",
       "      <td>0.0</td>\n",
       "      <td>0.0</td>\n",
       "      <td>0.028622</td>\n",
       "    </tr>\n",
       "  </tbody>\n",
       "</table>\n",
       "<p>3 rows × 714 columns</p>\n",
       "</div>"
      ],
      "text/plain": [
       "                     polo_btceth_open  polo_btceth_high  polo_btceth_low  \\\n",
       "date                                                                       \n",
       "2017-03-02 00:00:00          0.013700          0.014250         0.013599   \n",
       "2017-03-02 06:00:00          0.014115          0.014903         0.013901   \n",
       "2017-03-02 12:00:00          0.014880          0.015350         0.014530   \n",
       "\n",
       "                     polo_btceth_close  polo_btceth_volume  \\\n",
       "date                                                         \n",
       "2017-03-02 00:00:00           0.014100       363291.274791   \n",
       "2017-03-02 06:00:00           0.014879       209002.744141   \n",
       "2017-03-02 12:00:00           0.014999       629504.941161   \n",
       "\n",
       "                     polo_btceth_mean_trade_price  \\\n",
       "date                                                \n",
       "2017-03-02 00:00:00                      0.013978   \n",
       "2017-03-02 06:00:00                      0.014381   \n",
       "2017-03-02 12:00:00                      0.014988   \n",
       "\n",
       "                     polo_btceth_median_trade_price  \\\n",
       "date                                                  \n",
       "2017-03-02 00:00:00                        0.014000   \n",
       "2017-03-02 06:00:00                        0.014265   \n",
       "2017-03-02 12:00:00                        0.015000   \n",
       "\n",
       "                     polo_btceth_open_close_change  polo_btceth_candle_range  \\\n",
       "date                                                                           \n",
       "2017-03-02 00:00:00                       0.029222                  0.000651   \n",
       "2017-03-02 06:00:00                       0.054153                  0.001002   \n",
       "2017-03-02 12:00:00                       0.007997                  0.000820   \n",
       "\n",
       "                     polo_btceth_high_low_ratio    ...     \\\n",
       "date                                               ...      \n",
       "2017-03-02 00:00:00                    1.047869    ...      \n",
       "2017-03-02 06:00:00                    1.072079    ...      \n",
       "2017-03-02 12:00:00                    1.056435    ...      \n",
       "\n",
       "                     twitter_hashETH_tweets_bear_multiprt_avg  \\\n",
       "date                                                            \n",
       "2017-03-02 00:00:00                                       0.0   \n",
       "2017-03-02 06:00:00                                       0.0   \n",
       "2017-03-02 12:00:00                                       0.0   \n",
       "\n",
       "                     twitter_hashETH_tweets_bull_multifav_avg  \\\n",
       "date                                                            \n",
       "2017-03-02 00:00:00                                       0.0   \n",
       "2017-03-02 06:00:00                                       0.0   \n",
       "2017-03-02 12:00:00                                       0.0   \n",
       "\n",
       "                     twitter_hashETH_tweets_bear_multifav_avg  \\\n",
       "date                                                            \n",
       "2017-03-02 00:00:00                                       0.0   \n",
       "2017-03-02 06:00:00                                       0.0   \n",
       "2017-03-02 12:00:00                                       0.0   \n",
       "\n",
       "                     twitter_hashETH_tweets_bull_multipfollow_avg  \\\n",
       "date                                                                \n",
       "2017-03-02 00:00:00                                           0.0   \n",
       "2017-03-02 06:00:00                                           0.0   \n",
       "2017-03-02 12:00:00                                           0.0   \n",
       "\n",
       "                     twitter_hashETH_tweets_bear_multipfollow_avg  \\\n",
       "date                                                                \n",
       "2017-03-02 00:00:00                                           0.0   \n",
       "2017-03-02 06:00:00                                           0.0   \n",
       "2017-03-02 12:00:00                                           0.0   \n",
       "\n",
       "                     twitter_hashETH_tweets_bull_multipverif_avg  \\\n",
       "date                                                               \n",
       "2017-03-02 00:00:00                                          0.0   \n",
       "2017-03-02 06:00:00                                          0.0   \n",
       "2017-03-02 12:00:00                                          0.0   \n",
       "\n",
       "                     twitter_hashETH_tweets_bear_multipverif_avg  \\\n",
       "date                                                               \n",
       "2017-03-02 00:00:00                                          0.0   \n",
       "2017-03-02 06:00:00                                          0.0   \n",
       "2017-03-02 12:00:00                                          0.0   \n",
       "\n",
       "                     twitter_hashETH_tweets_bull_multipcustom_avg  \\\n",
       "date                                                                \n",
       "2017-03-02 00:00:00                                           0.0   \n",
       "2017-03-02 06:00:00                                           0.0   \n",
       "2017-03-02 12:00:00                                           0.0   \n",
       "\n",
       "                     twitter_hashETH_tweets_bear_multipcustom_avg    target  \n",
       "date                                                                         \n",
       "2017-03-02 00:00:00                                           0.0  0.156534  \n",
       "2017-03-02 06:00:00                                           0.0  0.144889  \n",
       "2017-03-02 12:00:00                                           0.0  0.028622  \n",
       "\n",
       "[3 rows x 714 columns]"
      ]
     },
     "execution_count": 4,
     "metadata": {},
     "output_type": "execute_result"
    }
   ],
   "source": [
    "df.head(3)"
   ]
  },
  {
   "cell_type": "code",
   "execution_count": 5,
   "metadata": {},
   "outputs": [
    {
     "name": "stdout",
     "output_type": "stream",
     "text": [
      "poly shape: (837, 140715)\n",
      "y shape: (837,)\n"
     ]
    }
   ],
   "source": [
    "# set dfs for X and y\n",
    "X_df = df.iloc[:,:-1]\n",
    "y = df.iloc[:,-1].as_matrix()\n",
    "\n",
    "# filter down to non-pattern features\n",
    "X_df_no_paterns = X_df[[col for col in X_df.columns if '_pat_' not in col]]\n",
    "\n",
    "# init PolynomialFeatures object\n",
    "poly = PolynomialFeatures(degree = 2, interaction_only = True, include_bias = False).fit(X_df_no_paterns)\n",
    "\n",
    "# create a df with the polynomial features\n",
    "poly_df = pd.DataFrame(poly.transform(X_df_no_paterns),\n",
    "                       columns = poly.get_feature_names(X_df_no_paterns.columns)\n",
    "                      )\n",
    "\n",
    "# set the polynomial X\n",
    "poly_X = poly_df.as_matrix()\n",
    "\n",
    "print('poly shape:', poly_X.shape)\n",
    "print('y shape:', y.shape)"
   ]
  },
  {
   "cell_type": "code",
   "execution_count": 6,
   "metadata": {},
   "outputs": [
    {
     "data": {
      "text/html": [
       "<div>\n",
       "<style>\n",
       "    .dataframe thead tr:only-child th {\n",
       "        text-align: right;\n",
       "    }\n",
       "\n",
       "    .dataframe thead th {\n",
       "        text-align: left;\n",
       "    }\n",
       "\n",
       "    .dataframe tbody tr th {\n",
       "        vertical-align: top;\n",
       "    }\n",
       "</style>\n",
       "<table border=\"1\" class=\"dataframe\">\n",
       "  <thead>\n",
       "    <tr style=\"text-align: right;\">\n",
       "      <th></th>\n",
       "      <th>polo_btceth_open</th>\n",
       "      <th>polo_btceth_high</th>\n",
       "      <th>polo_btceth_low</th>\n",
       "      <th>polo_btceth_close</th>\n",
       "      <th>polo_btceth_volume</th>\n",
       "      <th>polo_btceth_mean_trade_price</th>\n",
       "      <th>polo_btceth_median_trade_price</th>\n",
       "      <th>polo_btceth_open_close_change</th>\n",
       "      <th>polo_btceth_candle_range</th>\n",
       "      <th>polo_btceth_high_low_ratio</th>\n",
       "      <th>...</th>\n",
       "      <th>twitter_hashETH_tweets_bear_multipfollow_avg twitter_hashETH_tweets_bull_multipverif_avg</th>\n",
       "      <th>twitter_hashETH_tweets_bear_multipfollow_avg twitter_hashETH_tweets_bear_multipverif_avg</th>\n",
       "      <th>twitter_hashETH_tweets_bear_multipfollow_avg twitter_hashETH_tweets_bull_multipcustom_avg</th>\n",
       "      <th>twitter_hashETH_tweets_bear_multipfollow_avg twitter_hashETH_tweets_bear_multipcustom_avg</th>\n",
       "      <th>twitter_hashETH_tweets_bull_multipverif_avg twitter_hashETH_tweets_bear_multipverif_avg</th>\n",
       "      <th>twitter_hashETH_tweets_bull_multipverif_avg twitter_hashETH_tweets_bull_multipcustom_avg</th>\n",
       "      <th>twitter_hashETH_tweets_bull_multipverif_avg twitter_hashETH_tweets_bear_multipcustom_avg</th>\n",
       "      <th>twitter_hashETH_tweets_bear_multipverif_avg twitter_hashETH_tweets_bull_multipcustom_avg</th>\n",
       "      <th>twitter_hashETH_tweets_bear_multipverif_avg twitter_hashETH_tweets_bear_multipcustom_avg</th>\n",
       "      <th>twitter_hashETH_tweets_bull_multipcustom_avg twitter_hashETH_tweets_bear_multipcustom_avg</th>\n",
       "    </tr>\n",
       "  </thead>\n",
       "  <tbody>\n",
       "    <tr>\n",
       "      <th>0</th>\n",
       "      <td>0.013700</td>\n",
       "      <td>0.014250</td>\n",
       "      <td>0.013599</td>\n",
       "      <td>0.014100</td>\n",
       "      <td>363291.274791</td>\n",
       "      <td>0.013978</td>\n",
       "      <td>0.014000</td>\n",
       "      <td>0.029222</td>\n",
       "      <td>0.000651</td>\n",
       "      <td>1.047869</td>\n",
       "      <td>...</td>\n",
       "      <td>0.0</td>\n",
       "      <td>0.0</td>\n",
       "      <td>0.0</td>\n",
       "      <td>0.0</td>\n",
       "      <td>0.0</td>\n",
       "      <td>0.0</td>\n",
       "      <td>0.0</td>\n",
       "      <td>0.0</td>\n",
       "      <td>0.0</td>\n",
       "      <td>0.0</td>\n",
       "    </tr>\n",
       "    <tr>\n",
       "      <th>1</th>\n",
       "      <td>0.014115</td>\n",
       "      <td>0.014903</td>\n",
       "      <td>0.013901</td>\n",
       "      <td>0.014879</td>\n",
       "      <td>209002.744141</td>\n",
       "      <td>0.014381</td>\n",
       "      <td>0.014265</td>\n",
       "      <td>0.054153</td>\n",
       "      <td>0.001002</td>\n",
       "      <td>1.072079</td>\n",
       "      <td>...</td>\n",
       "      <td>0.0</td>\n",
       "      <td>0.0</td>\n",
       "      <td>0.0</td>\n",
       "      <td>0.0</td>\n",
       "      <td>0.0</td>\n",
       "      <td>0.0</td>\n",
       "      <td>0.0</td>\n",
       "      <td>0.0</td>\n",
       "      <td>0.0</td>\n",
       "      <td>0.0</td>\n",
       "    </tr>\n",
       "    <tr>\n",
       "      <th>2</th>\n",
       "      <td>0.014880</td>\n",
       "      <td>0.015350</td>\n",
       "      <td>0.014530</td>\n",
       "      <td>0.014999</td>\n",
       "      <td>629504.941161</td>\n",
       "      <td>0.014988</td>\n",
       "      <td>0.015000</td>\n",
       "      <td>0.007997</td>\n",
       "      <td>0.000820</td>\n",
       "      <td>1.056435</td>\n",
       "      <td>...</td>\n",
       "      <td>0.0</td>\n",
       "      <td>0.0</td>\n",
       "      <td>0.0</td>\n",
       "      <td>0.0</td>\n",
       "      <td>0.0</td>\n",
       "      <td>0.0</td>\n",
       "      <td>0.0</td>\n",
       "      <td>0.0</td>\n",
       "      <td>0.0</td>\n",
       "      <td>0.0</td>\n",
       "    </tr>\n",
       "  </tbody>\n",
       "</table>\n",
       "<p>3 rows × 140715 columns</p>\n",
       "</div>"
      ],
      "text/plain": [
       "   polo_btceth_open  polo_btceth_high  polo_btceth_low  polo_btceth_close  \\\n",
       "0          0.013700          0.014250         0.013599           0.014100   \n",
       "1          0.014115          0.014903         0.013901           0.014879   \n",
       "2          0.014880          0.015350         0.014530           0.014999   \n",
       "\n",
       "   polo_btceth_volume  polo_btceth_mean_trade_price  \\\n",
       "0       363291.274791                      0.013978   \n",
       "1       209002.744141                      0.014381   \n",
       "2       629504.941161                      0.014988   \n",
       "\n",
       "   polo_btceth_median_trade_price  polo_btceth_open_close_change  \\\n",
       "0                        0.014000                       0.029222   \n",
       "1                        0.014265                       0.054153   \n",
       "2                        0.015000                       0.007997   \n",
       "\n",
       "   polo_btceth_candle_range  polo_btceth_high_low_ratio  \\\n",
       "0                  0.000651                    1.047869   \n",
       "1                  0.001002                    1.072079   \n",
       "2                  0.000820                    1.056435   \n",
       "\n",
       "                                             ...                                              \\\n",
       "0                                            ...                                               \n",
       "1                                            ...                                               \n",
       "2                                            ...                                               \n",
       "\n",
       "   twitter_hashETH_tweets_bear_multipfollow_avg twitter_hashETH_tweets_bull_multipverif_avg  \\\n",
       "0                                                0.0                                          \n",
       "1                                                0.0                                          \n",
       "2                                                0.0                                          \n",
       "\n",
       "   twitter_hashETH_tweets_bear_multipfollow_avg twitter_hashETH_tweets_bear_multipverif_avg  \\\n",
       "0                                                0.0                                          \n",
       "1                                                0.0                                          \n",
       "2                                                0.0                                          \n",
       "\n",
       "   twitter_hashETH_tweets_bear_multipfollow_avg twitter_hashETH_tweets_bull_multipcustom_avg  \\\n",
       "0                                                0.0                                           \n",
       "1                                                0.0                                           \n",
       "2                                                0.0                                           \n",
       "\n",
       "   twitter_hashETH_tweets_bear_multipfollow_avg twitter_hashETH_tweets_bear_multipcustom_avg  \\\n",
       "0                                                0.0                                           \n",
       "1                                                0.0                                           \n",
       "2                                                0.0                                           \n",
       "\n",
       "   twitter_hashETH_tweets_bull_multipverif_avg twitter_hashETH_tweets_bear_multipverif_avg  \\\n",
       "0                                                0.0                                         \n",
       "1                                                0.0                                         \n",
       "2                                                0.0                                         \n",
       "\n",
       "   twitter_hashETH_tweets_bull_multipverif_avg twitter_hashETH_tweets_bull_multipcustom_avg  \\\n",
       "0                                                0.0                                          \n",
       "1                                                0.0                                          \n",
       "2                                                0.0                                          \n",
       "\n",
       "   twitter_hashETH_tweets_bull_multipverif_avg twitter_hashETH_tweets_bear_multipcustom_avg  \\\n",
       "0                                                0.0                                          \n",
       "1                                                0.0                                          \n",
       "2                                                0.0                                          \n",
       "\n",
       "   twitter_hashETH_tweets_bear_multipverif_avg twitter_hashETH_tweets_bull_multipcustom_avg  \\\n",
       "0                                                0.0                                          \n",
       "1                                                0.0                                          \n",
       "2                                                0.0                                          \n",
       "\n",
       "   twitter_hashETH_tweets_bear_multipverif_avg twitter_hashETH_tweets_bear_multipcustom_avg  \\\n",
       "0                                                0.0                                          \n",
       "1                                                0.0                                          \n",
       "2                                                0.0                                          \n",
       "\n",
       "   twitter_hashETH_tweets_bull_multipcustom_avg twitter_hashETH_tweets_bear_multipcustom_avg  \n",
       "0                                                0.0                                          \n",
       "1                                                0.0                                          \n",
       "2                                                0.0                                          \n",
       "\n",
       "[3 rows x 140715 columns]"
      ]
     },
     "execution_count": 6,
     "metadata": {},
     "output_type": "execute_result"
    }
   ],
   "source": [
    "poly_df.head(3)"
   ]
  },
  {
   "cell_type": "code",
   "execution_count": 72,
   "metadata": {
    "collapsed": true
   },
   "outputs": [],
   "source": [
    "# sample for testing\n",
    "#slice_X = poly_X[:,:1000]"
   ]
  },
  {
   "cell_type": "code",
   "execution_count": 8,
   "metadata": {
    "collapsed": true
   },
   "outputs": [],
   "source": [
    "n_iterations = 10"
   ]
  },
  {
   "cell_type": "code",
   "execution_count": 9,
   "metadata": {},
   "outputs": [
    {
     "name": "stdout",
     "output_type": "stream",
     "text": [
      "building tree 1 of 10\n"
     ]
    },
    {
     "name": "stderr",
     "output_type": "stream",
     "text": [
      "[Parallel(n_jobs=1)]: Done   1 out of   1 | elapsed:  1.2min remaining:    0.0s\n"
     ]
    },
    {
     "name": "stdout",
     "output_type": "stream",
     "text": [
      "building tree 2 of 10\n",
      "building tree 3 of 10\n",
      "building tree 4 of 10\n",
      "building tree 5 of 10\n",
      "building tree 6 of 10\n",
      "building tree 7 of 10\n",
      "building tree 8 of 10\n",
      "building tree 9 of 10\n",
      "building tree 10 of 10\n"
     ]
    },
    {
     "name": "stderr",
     "output_type": "stream",
     "text": [
      "[Parallel(n_jobs=1)]: Done  10 out of  10 | elapsed: 11.2min finished\n"
     ]
    },
    {
     "name": "stdout",
     "output_type": "stream",
     "text": [
      "building tree 1 of 10\n"
     ]
    },
    {
     "name": "stderr",
     "output_type": "stream",
     "text": [
      "[Parallel(n_jobs=1)]: Done   1 out of   1 | elapsed:  1.1min remaining:    0.0s\n"
     ]
    },
    {
     "name": "stdout",
     "output_type": "stream",
     "text": [
      "building tree 2 of 10\n",
      "building tree 3 of 10\n",
      "building tree 4 of 10\n",
      "building tree 5 of 10\n",
      "building tree 6 of 10\n",
      "building tree 7 of 10\n",
      "building tree 8 of 10\n",
      "building tree 9 of 10\n",
      "building tree 10 of 10\n"
     ]
    },
    {
     "name": "stderr",
     "output_type": "stream",
     "text": [
      "[Parallel(n_jobs=1)]: Done  10 out of  10 | elapsed: 12.0min finished\n"
     ]
    },
    {
     "name": "stdout",
     "output_type": "stream",
     "text": [
      "building tree 1 of 10\n"
     ]
    },
    {
     "name": "stderr",
     "output_type": "stream",
     "text": [
      "[Parallel(n_jobs=1)]: Done   1 out of   1 | elapsed:  1.1min remaining:    0.0s\n"
     ]
    },
    {
     "name": "stdout",
     "output_type": "stream",
     "text": [
      "building tree 2 of 10\n",
      "building tree 3 of 10\n",
      "building tree 4 of 10\n",
      "building tree 5 of 10\n",
      "building tree 6 of 10\n",
      "building tree 7 of 10\n",
      "building tree 8 of 10\n",
      "building tree 9 of 10\n",
      "building tree 10 of 10\n"
     ]
    },
    {
     "name": "stderr",
     "output_type": "stream",
     "text": [
      "[Parallel(n_jobs=1)]: Done  10 out of  10 | elapsed: 12.5min finished\n"
     ]
    },
    {
     "name": "stdout",
     "output_type": "stream",
     "text": [
      "building tree 1 of 10\n"
     ]
    },
    {
     "name": "stderr",
     "output_type": "stream",
     "text": [
      "[Parallel(n_jobs=1)]: Done   1 out of   1 | elapsed:  1.2min remaining:    0.0s\n"
     ]
    },
    {
     "name": "stdout",
     "output_type": "stream",
     "text": [
      "building tree 2 of 10\n",
      "building tree 3 of 10\n",
      "building tree 4 of 10\n",
      "building tree 5 of 10\n",
      "building tree 6 of 10\n",
      "building tree 7 of 10\n",
      "building tree 8 of 10\n",
      "building tree 9 of 10\n",
      "building tree 10 of 10\n"
     ]
    },
    {
     "name": "stderr",
     "output_type": "stream",
     "text": [
      "[Parallel(n_jobs=1)]: Done  10 out of  10 | elapsed: 12.9min finished\n"
     ]
    },
    {
     "name": "stdout",
     "output_type": "stream",
     "text": [
      "building tree 1 of 10\n"
     ]
    },
    {
     "name": "stderr",
     "output_type": "stream",
     "text": [
      "[Parallel(n_jobs=1)]: Done   1 out of   1 | elapsed:  1.1min remaining:    0.0s\n"
     ]
    },
    {
     "name": "stdout",
     "output_type": "stream",
     "text": [
      "building tree 2 of 10\n",
      "building tree 3 of 10\n",
      "building tree 4 of 10\n",
      "building tree 5 of 10\n",
      "building tree 6 of 10\n",
      "building tree 7 of 10\n",
      "building tree 8 of 10\n",
      "building tree 9 of 10\n",
      "building tree 10 of 10\n"
     ]
    },
    {
     "name": "stderr",
     "output_type": "stream",
     "text": [
      "[Parallel(n_jobs=1)]: Done  10 out of  10 | elapsed: 12.6min finished\n"
     ]
    },
    {
     "name": "stdout",
     "output_type": "stream",
     "text": [
      "building tree 1 of 10\n"
     ]
    },
    {
     "name": "stderr",
     "output_type": "stream",
     "text": [
      "[Parallel(n_jobs=1)]: Done   1 out of   1 | elapsed:  1.2min remaining:    0.0s\n"
     ]
    },
    {
     "name": "stdout",
     "output_type": "stream",
     "text": [
      "building tree 2 of 10\n",
      "building tree 3 of 10\n",
      "building tree 4 of 10\n",
      "building tree 5 of 10\n",
      "building tree 6 of 10\n",
      "building tree 7 of 10\n",
      "building tree 8 of 10\n",
      "building tree 9 of 10\n",
      "building tree 10 of 10\n"
     ]
    },
    {
     "name": "stderr",
     "output_type": "stream",
     "text": [
      "[Parallel(n_jobs=1)]: Done  10 out of  10 | elapsed: 13.1min finished\n"
     ]
    },
    {
     "name": "stdout",
     "output_type": "stream",
     "text": [
      "building tree 1 of 10\n"
     ]
    },
    {
     "name": "stderr",
     "output_type": "stream",
     "text": [
      "[Parallel(n_jobs=1)]: Done   1 out of   1 | elapsed:  1.2min remaining:    0.0s\n"
     ]
    },
    {
     "name": "stdout",
     "output_type": "stream",
     "text": [
      "building tree 2 of 10\n",
      "building tree 3 of 10\n",
      "building tree 4 of 10\n",
      "building tree 5 of 10\n",
      "building tree 6 of 10\n",
      "building tree 7 of 10\n",
      "building tree 8 of 10\n",
      "building tree 9 of 10\n",
      "building tree 10 of 10\n"
     ]
    },
    {
     "name": "stderr",
     "output_type": "stream",
     "text": [
      "[Parallel(n_jobs=1)]: Done  10 out of  10 | elapsed: 13.0min finished\n"
     ]
    },
    {
     "name": "stdout",
     "output_type": "stream",
     "text": [
      "building tree 1 of 10\n"
     ]
    },
    {
     "name": "stderr",
     "output_type": "stream",
     "text": [
      "[Parallel(n_jobs=1)]: Done   1 out of   1 | elapsed:  1.2min remaining:    0.0s\n"
     ]
    },
    {
     "name": "stdout",
     "output_type": "stream",
     "text": [
      "building tree 2 of 10\n",
      "building tree 3 of 10\n",
      "building tree 4 of 10\n",
      "building tree 5 of 10\n",
      "building tree 6 of 10\n",
      "building tree 7 of 10\n",
      "building tree 8 of 10\n",
      "building tree 9 of 10\n",
      "building tree 10 of 10\n"
     ]
    },
    {
     "name": "stderr",
     "output_type": "stream",
     "text": [
      "[Parallel(n_jobs=1)]: Done  10 out of  10 | elapsed: 13.9min finished\n"
     ]
    },
    {
     "name": "stdout",
     "output_type": "stream",
     "text": [
      "building tree 1 of 10\n"
     ]
    },
    {
     "name": "stderr",
     "output_type": "stream",
     "text": [
      "[Parallel(n_jobs=1)]: Done   1 out of   1 | elapsed:   59.8s remaining:    0.0s\n"
     ]
    },
    {
     "name": "stdout",
     "output_type": "stream",
     "text": [
      "building tree 2 of 10\n",
      "building tree 3 of 10\n",
      "building tree 4 of 10\n",
      "building tree 5 of 10\n",
      "building tree 6 of 10\n",
      "building tree 7 of 10\n",
      "building tree 8 of 10\n",
      "building tree 9 of 10\n",
      "building tree 10 of 10\n"
     ]
    },
    {
     "name": "stderr",
     "output_type": "stream",
     "text": [
      "[Parallel(n_jobs=1)]: Done  10 out of  10 | elapsed: 11.1min finished\n"
     ]
    },
    {
     "name": "stdout",
     "output_type": "stream",
     "text": [
      "building tree 1 of 10\n"
     ]
    },
    {
     "name": "stderr",
     "output_type": "stream",
     "text": [
      "[Parallel(n_jobs=1)]: Done   1 out of   1 | elapsed:   59.1s remaining:    0.0s\n"
     ]
    },
    {
     "name": "stdout",
     "output_type": "stream",
     "text": [
      "building tree 2 of 10\n",
      "building tree 3 of 10\n",
      "building tree 4 of 10\n",
      "building tree 5 of 10\n",
      "building tree 6 of 10\n",
      "building tree 7 of 10\n",
      "building tree 8 of 10\n",
      "building tree 9 of 10\n",
      "building tree 10 of 10\n"
     ]
    },
    {
     "name": "stderr",
     "output_type": "stream",
     "text": [
      "[Parallel(n_jobs=1)]: Done  10 out of  10 | elapsed: 11.8min finished\n"
     ]
    }
   ],
   "source": [
    "# set an empty df for appending\n",
    "xdf = pd.DataFrame()\n",
    "\n",
    "# loop through n times to reduce possibility of losing correlated features\n",
    "for _ in range(n_iterations):\n",
    "    \n",
    "    # init model\n",
    "    model = RandomForestRegressor(n_estimators = 10, verbose = 2)\n",
    "    model.fit(poly_X, y)\n",
    "    \n",
    "    scores = {}\n",
    "    \n",
    "    # add the cols and there score to a dict for easy df conversion\n",
    "    for score, col in zip(map(lambda x: x, model.feature_importances_), poly_df.columns.tolist()):\n",
    "        scores[col] = score\n",
    "    \n",
    "    # add the dict of cols and their scores to a df\n",
    "    score_df = pd.DataFrame(list(scores.items()),\n",
    "                            columns = ['col', 'score']\n",
    "                           )\n",
    "    \n",
    "    # append this to the master df\n",
    "    xdf = xdf.append(score_df)"
   ]
  },
  {
   "cell_type": "markdown",
   "metadata": {
    "collapsed": true
   },
   "source": [
    "### Note\n",
    "\n",
    "Start: 10:10pm\n",
    "\n",
    "End: "
   ]
  },
  {
   "cell_type": "code",
   "execution_count": 18,
   "metadata": {
    "collapsed": true
   },
   "outputs": [],
   "source": [
    "feature_scores = xdf.groupby('col').sum().sort_values('score', ascending = False)"
   ]
  },
  {
   "cell_type": "code",
   "execution_count": 20,
   "metadata": {
    "collapsed": true
   },
   "outputs": [],
   "source": [
    "top_1000_features = feature_scores[:1000].index.tolist()"
   ]
  },
  {
   "cell_type": "markdown",
   "metadata": {},
   "source": [
    "## Select Top 100 Features from Top 1000"
   ]
  },
  {
   "cell_type": "code",
   "execution_count": 23,
   "metadata": {
    "collapsed": true
   },
   "outputs": [],
   "source": [
    "filtered_1000_poly_df = poly_df[top_1000_features]"
   ]
  },
  {
   "cell_type": "code",
   "execution_count": 28,
   "metadata": {},
   "outputs": [
    {
     "data": {
      "text/html": [
       "<div>\n",
       "<style>\n",
       "    .dataframe thead tr:only-child th {\n",
       "        text-align: right;\n",
       "    }\n",
       "\n",
       "    .dataframe thead th {\n",
       "        text-align: left;\n",
       "    }\n",
       "\n",
       "    .dataframe tbody tr th {\n",
       "        vertical-align: top;\n",
       "    }\n",
       "</style>\n",
       "<table border=\"1\" class=\"dataframe\">\n",
       "  <thead>\n",
       "    <tr style=\"text-align: right;\">\n",
       "      <th></th>\n",
       "      <th>polo_usdtbtc_ultimate_osc polo_usdtbtc_close_roc_15</th>\n",
       "      <th>polo_btceth_open polo_usdteth_ema_180</th>\n",
       "      <th>polo_btceth_volume polo_usdteth_stoch_rsi_k</th>\n",
       "      <th>polo_usdteth_high_low_ratio2 polo_usdteth_stoch_rsi_k</th>\n",
       "      <th>polo_btceth_ema_180 polo_usdteth_ema_150</th>\n",
       "      <th>polo_btceth_ema_150 polo_usdteth_ema_150</th>\n",
       "      <th>polo_usdteth_roc_par_sar_5 twitter_hashETH_tweets_bull_count_avg</th>\n",
       "      <th>polo_usdtbtc_close_roc_15 polo_usdteth_adx_rating</th>\n",
       "      <th>polo_btceth_roc_tema_5 polo_usdtbtc_roc_mesa_fama_1</th>\n",
       "      <th>polo_btceth_ema_150 polo_usdteth_ema_180</th>\n",
       "      <th>...</th>\n",
       "      <th>polo_usdtbtc_stoch_rsi_k twitter_hashBTC_sent_neu_avg</th>\n",
       "      <th>polo_btceth_roc_dema_5 polo_btceth_roc_hilb_trans_5</th>\n",
       "      <th>polo_usdtbtc_open polo_usdteth_htp_cycleperiod</th>\n",
       "      <th>twitter_bitcoin_tweets_bull_multipfollow_avg twitter_cashETH_tweets_bull_count_avg</th>\n",
       "      <th>polo_usdteth_roc_ema_180_2 twitter_cashETH_tweets_bear_multiprt_avg</th>\n",
       "      <th>polo_usdtbtc_roc_par_sar_1 twitter_cashETH_tweets_bull_count_avg</th>\n",
       "      <th>polo_usdteth_high_low_ratio polo_usdteth_cmo</th>\n",
       "      <th>polo_btceth_roc_mesa_mama_3 polo_usdtbtc_roc_par_sar_1</th>\n",
       "      <th>polo_usdtbtc_roc_ema_60_5 polo_usdtbtc_roc_mesa_fama_5</th>\n",
       "      <th>twitter_bitcoin_sent_neg_avg twitter_ethereum_sent_pos_avg.1</th>\n",
       "    </tr>\n",
       "  </thead>\n",
       "  <tbody>\n",
       "    <tr>\n",
       "      <th>0</th>\n",
       "      <td>2.598183</td>\n",
       "      <td>0.165489</td>\n",
       "      <td>2.395334e+07</td>\n",
       "      <td>4.941895</td>\n",
       "      <td>0.143974</td>\n",
       "      <td>0.144763</td>\n",
       "      <td>-0.0</td>\n",
       "      <td>1.628971</td>\n",
       "      <td>0.000413</td>\n",
       "      <td>0.141294</td>\n",
       "      <td>...</td>\n",
       "      <td>0.0</td>\n",
       "      <td>0.000845</td>\n",
       "      <td>32167.119665</td>\n",
       "      <td>0.0</td>\n",
       "      <td>0.0</td>\n",
       "      <td>0.0</td>\n",
       "      <td>63.256471</td>\n",
       "      <td>0.000038</td>\n",
       "      <td>0.000230</td>\n",
       "      <td>0.000000</td>\n",
       "    </tr>\n",
       "    <tr>\n",
       "      <th>1</th>\n",
       "      <td>3.132187</td>\n",
       "      <td>0.171470</td>\n",
       "      <td>2.090027e+07</td>\n",
       "      <td>7.606560</td>\n",
       "      <td>0.145332</td>\n",
       "      <td>0.146204</td>\n",
       "      <td>-0.0</td>\n",
       "      <td>2.085499</td>\n",
       "      <td>0.000515</td>\n",
       "      <td>0.142609</td>\n",
       "      <td>...</td>\n",
       "      <td>0.0</td>\n",
       "      <td>0.001141</td>\n",
       "      <td>32773.847063</td>\n",
       "      <td>0.0</td>\n",
       "      <td>0.0</td>\n",
       "      <td>0.0</td>\n",
       "      <td>72.442434</td>\n",
       "      <td>0.000470</td>\n",
       "      <td>0.000340</td>\n",
       "      <td>0.002752</td>\n",
       "    </tr>\n",
       "    <tr>\n",
       "      <th>2</th>\n",
       "      <td>6.152602</td>\n",
       "      <td>0.181926</td>\n",
       "      <td>6.295049e+07</td>\n",
       "      <td>8.873706</td>\n",
       "      <td>0.146835</td>\n",
       "      <td>0.147793</td>\n",
       "      <td>-0.0</td>\n",
       "      <td>3.799457</td>\n",
       "      <td>0.000051</td>\n",
       "      <td>0.144050</td>\n",
       "      <td>...</td>\n",
       "      <td>0.0</td>\n",
       "      <td>0.001578</td>\n",
       "      <td>34624.024888</td>\n",
       "      <td>0.0</td>\n",
       "      <td>0.0</td>\n",
       "      <td>0.0</td>\n",
       "      <td>78.963114</td>\n",
       "      <td>0.000632</td>\n",
       "      <td>0.000388</td>\n",
       "      <td>0.002092</td>\n",
       "    </tr>\n",
       "    <tr>\n",
       "      <th>3</th>\n",
       "      <td>4.342691</td>\n",
       "      <td>0.184239</td>\n",
       "      <td>6.336064e+06</td>\n",
       "      <td>1.048397</td>\n",
       "      <td>0.148272</td>\n",
       "      <td>0.149316</td>\n",
       "      <td>-0.0</td>\n",
       "      <td>2.991584</td>\n",
       "      <td>0.000063</td>\n",
       "      <td>0.145438</td>\n",
       "      <td>...</td>\n",
       "      <td>0.0</td>\n",
       "      <td>0.002236</td>\n",
       "      <td>36971.797309</td>\n",
       "      <td>0.0</td>\n",
       "      <td>0.0</td>\n",
       "      <td>0.0</td>\n",
       "      <td>64.998220</td>\n",
       "      <td>0.001305</td>\n",
       "      <td>0.000403</td>\n",
       "      <td>0.002433</td>\n",
       "    </tr>\n",
       "    <tr>\n",
       "      <th>4</th>\n",
       "      <td>4.226024</td>\n",
       "      <td>0.186230</td>\n",
       "      <td>3.217020e+07</td>\n",
       "      <td>7.265899</td>\n",
       "      <td>0.150082</td>\n",
       "      <td>0.151241</td>\n",
       "      <td>0.0</td>\n",
       "      <td>3.253531</td>\n",
       "      <td>0.000076</td>\n",
       "      <td>0.147187</td>\n",
       "      <td>...</td>\n",
       "      <td>0.0</td>\n",
       "      <td>0.003122</td>\n",
       "      <td>39742.897163</td>\n",
       "      <td>0.0</td>\n",
       "      <td>0.0</td>\n",
       "      <td>0.0</td>\n",
       "      <td>76.201531</td>\n",
       "      <td>0.000618</td>\n",
       "      <td>0.000273</td>\n",
       "      <td>0.002226</td>\n",
       "    </tr>\n",
       "  </tbody>\n",
       "</table>\n",
       "<p>5 rows × 1000 columns</p>\n",
       "</div>"
      ],
      "text/plain": [
       "   polo_usdtbtc_ultimate_osc polo_usdtbtc_close_roc_15  \\\n",
       "0                                           2.598183     \n",
       "1                                           3.132187     \n",
       "2                                           6.152602     \n",
       "3                                           4.342691     \n",
       "4                                           4.226024     \n",
       "\n",
       "   polo_btceth_open polo_usdteth_ema_180  \\\n",
       "0                               0.165489   \n",
       "1                               0.171470   \n",
       "2                               0.181926   \n",
       "3                               0.184239   \n",
       "4                               0.186230   \n",
       "\n",
       "   polo_btceth_volume polo_usdteth_stoch_rsi_k  \\\n",
       "0                                 2.395334e+07   \n",
       "1                                 2.090027e+07   \n",
       "2                                 6.295049e+07   \n",
       "3                                 6.336064e+06   \n",
       "4                                 3.217020e+07   \n",
       "\n",
       "   polo_usdteth_high_low_ratio2 polo_usdteth_stoch_rsi_k  \\\n",
       "0                                           4.941895       \n",
       "1                                           7.606560       \n",
       "2                                           8.873706       \n",
       "3                                           1.048397       \n",
       "4                                           7.265899       \n",
       "\n",
       "   polo_btceth_ema_180 polo_usdteth_ema_150  \\\n",
       "0                                  0.143974   \n",
       "1                                  0.145332   \n",
       "2                                  0.146835   \n",
       "3                                  0.148272   \n",
       "4                                  0.150082   \n",
       "\n",
       "   polo_btceth_ema_150 polo_usdteth_ema_150  \\\n",
       "0                                  0.144763   \n",
       "1                                  0.146204   \n",
       "2                                  0.147793   \n",
       "3                                  0.149316   \n",
       "4                                  0.151241   \n",
       "\n",
       "   polo_usdteth_roc_par_sar_5 twitter_hashETH_tweets_bull_count_avg  \\\n",
       "0                                               -0.0                  \n",
       "1                                               -0.0                  \n",
       "2                                               -0.0                  \n",
       "3                                               -0.0                  \n",
       "4                                                0.0                  \n",
       "\n",
       "   polo_usdtbtc_close_roc_15 polo_usdteth_adx_rating  \\\n",
       "0                                           1.628971   \n",
       "1                                           2.085499   \n",
       "2                                           3.799457   \n",
       "3                                           2.991584   \n",
       "4                                           3.253531   \n",
       "\n",
       "   polo_btceth_roc_tema_5 polo_usdtbtc_roc_mesa_fama_1  \\\n",
       "0                                           0.000413     \n",
       "1                                           0.000515     \n",
       "2                                           0.000051     \n",
       "3                                           0.000063     \n",
       "4                                           0.000076     \n",
       "\n",
       "   polo_btceth_ema_150 polo_usdteth_ema_180  \\\n",
       "0                                  0.141294   \n",
       "1                                  0.142609   \n",
       "2                                  0.144050   \n",
       "3                                  0.145438   \n",
       "4                                  0.147187   \n",
       "\n",
       "                               ...                               \\\n",
       "0                              ...                                \n",
       "1                              ...                                \n",
       "2                              ...                                \n",
       "3                              ...                                \n",
       "4                              ...                                \n",
       "\n",
       "   polo_usdtbtc_stoch_rsi_k twitter_hashBTC_sent_neu_avg  \\\n",
       "0                                                0.0       \n",
       "1                                                0.0       \n",
       "2                                                0.0       \n",
       "3                                                0.0       \n",
       "4                                                0.0       \n",
       "\n",
       "   polo_btceth_roc_dema_5 polo_btceth_roc_hilb_trans_5  \\\n",
       "0                                           0.000845     \n",
       "1                                           0.001141     \n",
       "2                                           0.001578     \n",
       "3                                           0.002236     \n",
       "4                                           0.003122     \n",
       "\n",
       "   polo_usdtbtc_open polo_usdteth_htp_cycleperiod  \\\n",
       "0                                    32167.119665   \n",
       "1                                    32773.847063   \n",
       "2                                    34624.024888   \n",
       "3                                    36971.797309   \n",
       "4                                    39742.897163   \n",
       "\n",
       "   twitter_bitcoin_tweets_bull_multipfollow_avg twitter_cashETH_tweets_bull_count_avg  \\\n",
       "0                                                0.0                                    \n",
       "1                                                0.0                                    \n",
       "2                                                0.0                                    \n",
       "3                                                0.0                                    \n",
       "4                                                0.0                                    \n",
       "\n",
       "   polo_usdteth_roc_ema_180_2 twitter_cashETH_tweets_bear_multiprt_avg  \\\n",
       "0                                                0.0                     \n",
       "1                                                0.0                     \n",
       "2                                                0.0                     \n",
       "3                                                0.0                     \n",
       "4                                                0.0                     \n",
       "\n",
       "   polo_usdtbtc_roc_par_sar_1 twitter_cashETH_tweets_bull_count_avg  \\\n",
       "0                                                0.0                  \n",
       "1                                                0.0                  \n",
       "2                                                0.0                  \n",
       "3                                                0.0                  \n",
       "4                                                0.0                  \n",
       "\n",
       "   polo_usdteth_high_low_ratio polo_usdteth_cmo  \\\n",
       "0                                     63.256471   \n",
       "1                                     72.442434   \n",
       "2                                     78.963114   \n",
       "3                                     64.998220   \n",
       "4                                     76.201531   \n",
       "\n",
       "   polo_btceth_roc_mesa_mama_3 polo_usdtbtc_roc_par_sar_1  \\\n",
       "0                                           0.000038        \n",
       "1                                           0.000470        \n",
       "2                                           0.000632        \n",
       "3                                           0.001305        \n",
       "4                                           0.000618        \n",
       "\n",
       "   polo_usdtbtc_roc_ema_60_5 polo_usdtbtc_roc_mesa_fama_5  \\\n",
       "0                                           0.000230        \n",
       "1                                           0.000340        \n",
       "2                                           0.000388        \n",
       "3                                           0.000403        \n",
       "4                                           0.000273        \n",
       "\n",
       "   twitter_bitcoin_sent_neg_avg twitter_ethereum_sent_pos_avg.1  \n",
       "0                                           0.000000             \n",
       "1                                           0.002752             \n",
       "2                                           0.002092             \n",
       "3                                           0.002433             \n",
       "4                                           0.002226             \n",
       "\n",
       "[5 rows x 1000 columns]"
      ]
     },
     "execution_count": 28,
     "metadata": {},
     "output_type": "execute_result"
    }
   ],
   "source": [
    "filtered_1000_poly_df.head()"
   ]
  },
  {
   "cell_type": "code",
   "execution_count": 52,
   "metadata": {
    "collapsed": true
   },
   "outputs": [],
   "source": [
    "cols_w_no_negs = [col for b, col in zip(((filtered_1000_poly_df < 0).sum() == 0).tolist(), filtered_1000_poly_df.columns.tolist()) if b]"
   ]
  },
  {
   "cell_type": "code",
   "execution_count": 53,
   "metadata": {},
   "outputs": [
    {
     "name": "stderr",
     "output_type": "stream",
     "text": [
      "/Users/zach-eberhart/anaconda/lib/python3.5/site-packages/ipykernel/__main__.py:1: RuntimeWarning: divide by zero encountered in log\n",
      "  if __name__ == '__main__':\n"
     ]
    }
   ],
   "source": [
    "# get the log of all non-negative columns\n",
    "log_transformed_1000_poly_df = np.log(filtered_1000_poly_df[cols_w_no_negs])\n",
    "\n",
    "# delete all cols with infinity values\n",
    "log_transformed_1000_poly_df = log_transformed_1000_poly_df.replace([np.inf, -np.inf], np.nan)\n",
    "log_transformed_1000_poly_df = log_transformed_1000_poly_df.dropna(1)\n",
    "\n",
    "# add the 'log' prefix\n",
    "log_transformed_1000_poly_df.columns = ['log ' + str(col) for col in log_transformed_1000_poly_df.columns.tolist()]\n",
    "\n",
    "# reset index for easy joining\n",
    "log_transformed_1000_poly_df = log_transformed_1000_poly_df.reset_index(drop = True)"
   ]
  },
  {
   "cell_type": "code",
   "execution_count": 89,
   "metadata": {},
   "outputs": [
    {
     "data": {
      "text/plain": [
       "(837, 100)"
      ]
     },
     "execution_count": 89,
     "metadata": {},
     "output_type": "execute_result"
    }
   ],
   "source": [
    "log_transformed_1000_poly_df.shape"
   ]
  },
  {
   "cell_type": "code",
   "execution_count": 83,
   "metadata": {
    "collapsed": true
   },
   "outputs": [],
   "source": [
    "# get the log of all non-negative columns\n",
    "sqrt_transformed_1000_poly_df = np.sqrt(filtered_1000_poly_df[cols_w_no_negs])\n",
    "\n",
    "# delete all cols with infinity values\n",
    "sqrt_transformed_1000_poly_df = sqrt_transformed_1000_poly_df.replace([np.inf, -np.inf], np.nan)\n",
    "sqrt_transformed_1000_poly_df = sqrt_transformed_1000_poly_df.dropna(1)\n",
    "\n",
    "# add the 'log' prefix\n",
    "sqrt_transformed_1000_poly_df.columns = ['sqrt ' + str(col) for col in sqrt_transformed_1000_poly_df.columns.tolist()]\n",
    "\n",
    "# reset index for easy joining\n",
    "sqrt_transformed_1000_poly_df = sqrt_transformed_1000_poly_df.reset_index(drop = True)"
   ]
  },
  {
   "cell_type": "code",
   "execution_count": 84,
   "metadata": {},
   "outputs": [
    {
     "data": {
      "text/plain": [
       "(837, 236)"
      ]
     },
     "execution_count": 84,
     "metadata": {},
     "output_type": "execute_result"
    }
   ],
   "source": [
    "sqrt_transformed_1000_poly_df.shape"
   ]
  },
  {
   "cell_type": "code",
   "execution_count": 91,
   "metadata": {
    "collapsed": true
   },
   "outputs": [],
   "source": [
    "# join the two transformed dfs for joining to main df\n",
    "trans_1000_poly_df = log_transformed_1000_poly_df.join(sqrt_transformed_1000_poly_df)"
   ]
  },
  {
   "cell_type": "code",
   "execution_count": 95,
   "metadata": {
    "collapsed": true
   },
   "outputs": [],
   "source": [
    "# and do one more join to add it all together\n",
    "_1000_df = filtered_1000_poly_df.reset_index(drop = True).join(trans_1000_poly_df)"
   ]
  },
  {
   "cell_type": "code",
   "execution_count": 99,
   "metadata": {},
   "outputs": [
    {
     "name": "stdout",
     "output_type": "stream",
     "text": [
      "poly 1000 X: (837, 1336)\n",
      "shape y: (837,)\n"
     ]
    }
   ],
   "source": [
    "# create X matrix\n",
    "poly_1000_trans_X = _1000_df.as_matrix()\n",
    "\n",
    "print('poly 1000 X:', poly_1000_trans_X.shape)\n",
    "print('shape y:', y.shape)"
   ]
  },
  {
   "cell_type": "code",
   "execution_count": 104,
   "metadata": {
    "collapsed": true
   },
   "outputs": [],
   "source": [
    "# set params\n",
    "n_estimators = 1000\n",
    "n_iterations = 100"
   ]
  },
  {
   "cell_type": "code",
   "execution_count": 105,
   "metadata": {},
   "outputs": [
    {
     "name": "stdout",
     "output_type": "stream",
     "text": [
      "Starting iteration 0\n",
      "Starting iteration 1\n",
      "Starting iteration 2\n",
      "Starting iteration 3\n",
      "Starting iteration 4\n",
      "Starting iteration 5\n",
      "Starting iteration 6\n",
      "Starting iteration 7\n",
      "Starting iteration 8\n",
      "Starting iteration 9\n",
      "Starting iteration 10\n",
      "Starting iteration 11\n",
      "Starting iteration 12\n",
      "Starting iteration 13\n",
      "Starting iteration 14\n",
      "Starting iteration 15\n",
      "Starting iteration 16\n",
      "Starting iteration 17\n",
      "Starting iteration 18\n",
      "Starting iteration 19\n",
      "Starting iteration 20\n",
      "Starting iteration 21\n",
      "Starting iteration 22\n",
      "Starting iteration 23\n",
      "Starting iteration 24\n",
      "Starting iteration 25\n",
      "Starting iteration 26\n",
      "Starting iteration 27\n",
      "Starting iteration 28\n",
      "Starting iteration 29\n",
      "Starting iteration 30\n",
      "Starting iteration 31\n",
      "Starting iteration 32\n",
      "Starting iteration 33\n",
      "Starting iteration 34\n",
      "Starting iteration 35\n",
      "Starting iteration 36\n",
      "Starting iteration 37\n",
      "Starting iteration 38\n",
      "Starting iteration 39\n",
      "Starting iteration 40\n",
      "Starting iteration 41\n",
      "Starting iteration 42\n",
      "Starting iteration 43\n",
      "Starting iteration 44\n",
      "Starting iteration 45\n",
      "Starting iteration 46\n",
      "Starting iteration 47\n",
      "Starting iteration 48\n",
      "Starting iteration 49\n",
      "Starting iteration 50\n",
      "Starting iteration 51\n",
      "Starting iteration 52\n",
      "Starting iteration 53\n",
      "Starting iteration 54\n",
      "Starting iteration 55\n",
      "Starting iteration 56\n",
      "Starting iteration 57\n",
      "Starting iteration 58\n",
      "Starting iteration 59\n",
      "Starting iteration 60\n",
      "Starting iteration 61\n",
      "Starting iteration 62\n",
      "Starting iteration 63\n",
      "Starting iteration 64\n",
      "Starting iteration 65\n",
      "Starting iteration 66\n",
      "Starting iteration 67\n",
      "Starting iteration 68\n",
      "Starting iteration 69\n",
      "Starting iteration 70\n",
      "Starting iteration 71\n",
      "Starting iteration 72\n",
      "Starting iteration 73\n",
      "Starting iteration 74\n",
      "Starting iteration 75\n",
      "Starting iteration 76\n",
      "Starting iteration 77\n",
      "Starting iteration 78\n",
      "Starting iteration 79\n",
      "Starting iteration 80\n",
      "Starting iteration 81\n",
      "Starting iteration 82\n",
      "Starting iteration 83\n",
      "Starting iteration 84\n",
      "Starting iteration 85\n",
      "Starting iteration 86\n",
      "Starting iteration 87\n",
      "Starting iteration 88\n",
      "Starting iteration 89\n",
      "Starting iteration 90\n",
      "Starting iteration 91\n",
      "Starting iteration 92\n",
      "Starting iteration 93\n",
      "Starting iteration 94\n",
      "Starting iteration 95\n",
      "Starting iteration 96\n",
      "Starting iteration 97\n",
      "Starting iteration 98\n",
      "Starting iteration 99\n"
     ]
    }
   ],
   "source": [
    "# set an empty df for appending\n",
    "xdf_1000 = pd.DataFrame()\n",
    "\n",
    "# loop through n times to reduce possibility of losing correlated features\n",
    "for i in range(n_iterations):\n",
    "    \n",
    "    print('Starting iteration', i)\n",
    "    \n",
    "    # init model\n",
    "    model = RandomForestRegressor(n_estimators = n_estimators)\n",
    "    model.fit(poly_1000_trans_X, y)\n",
    "    \n",
    "    scores = {}\n",
    "    \n",
    "    # add the cols and there score to a dict for easy df conversion\n",
    "    for score, col in zip(map(lambda x: x, model.feature_importances_), _1000_df.columns.tolist()):\n",
    "        scores[col] = score\n",
    "    \n",
    "    # add the dict of cols and their scores to a df\n",
    "    score_df = pd.DataFrame(list(scores.items()),\n",
    "                            columns = ['col', 'score']\n",
    "                           )\n",
    "    \n",
    "    # append this to the master df\n",
    "    xdf_1000 = xdf_1000.append(score_df)"
   ]
  },
  {
   "cell_type": "code",
   "execution_count": 144,
   "metadata": {},
   "outputs": [
    {
     "name": "stderr",
     "output_type": "stream",
     "text": [
      "/Users/zach-eberhart/anaconda/lib/python3.5/site-packages/ipykernel/__main__.py:11: SettingWithCopyWarning: \n",
      "A value is trying to be set on a copy of a slice from a DataFrame.\n",
      "Try using .loc[row_indexer,col_indexer] = value instead\n",
      "\n",
      "See the caveats in the documentation: http://pandas.pydata.org/pandas-docs/stable/indexing.html#indexing-view-versus-copy\n"
     ]
    }
   ],
   "source": [
    "# sort the cols by score and export to save a record of all col scores\n",
    "tran_poly_feature_scores = xdf_1000.groupby('col').sum().sort_values('score', ascending = False)\n",
    "tran_poly_feature_scores.to_csv('top_100_polynomial_features.csv')\n",
    "\n",
    "# filter down to the top 100 features\n",
    "final_features = tran_poly_feature_scores[:120].index.tolist()\n",
    "final_trans_poly_train_df = _1000_df[final_features]\n",
    "\n",
    "# add back the target and the index\n",
    "final_trans_poly_train_df.index = df.index\n",
    "final_trans_poly_train_df[target_col] = df[target_col]"
   ]
  },
  {
   "cell_type": "code",
   "execution_count": 145,
   "metadata": {
    "collapsed": true
   },
   "outputs": [],
   "source": [
    "# write the final df to a csv for use in training!\n",
    "final_trans_poly_train_df.to_csv('filtered_trans_poly_train_2017-10-03.csv')"
   ]
  },
  {
   "cell_type": "code",
   "execution_count": null,
   "metadata": {
    "collapsed": true
   },
   "outputs": [],
   "source": []
  },
  {
   "cell_type": "code",
   "execution_count": null,
   "metadata": {
    "collapsed": true
   },
   "outputs": [],
   "source": []
  },
  {
   "cell_type": "code",
   "execution_count": null,
   "metadata": {
    "collapsed": true
   },
   "outputs": [],
   "source": []
  },
  {
   "cell_type": "code",
   "execution_count": null,
   "metadata": {
    "collapsed": true
   },
   "outputs": [],
   "source": []
  },
  {
   "cell_type": "code",
   "execution_count": null,
   "metadata": {
    "collapsed": true
   },
   "outputs": [],
   "source": []
  }
 ],
 "metadata": {
  "kernelspec": {
   "display_name": "Python [default]",
   "language": "python",
   "name": "python3"
  },
  "language_info": {
   "codemirror_mode": {
    "name": "ipython",
    "version": 3
   },
   "file_extension": ".py",
   "mimetype": "text/x-python",
   "name": "python",
   "nbconvert_exporter": "python",
   "pygments_lexer": "ipython3",
   "version": "3.5.2"
  }
 },
 "nbformat": 4,
 "nbformat_minor": 2
}
