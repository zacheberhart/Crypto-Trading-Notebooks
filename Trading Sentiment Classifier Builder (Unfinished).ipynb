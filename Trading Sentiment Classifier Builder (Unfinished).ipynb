{
 "cells": [
  {
   "cell_type": "code",
   "execution_count": 1,
   "metadata": {
    "collapsed": true
   },
   "outputs": [],
   "source": [
    "import pandas as pd\n",
    "import sqlite3\n",
    "import numpy as np\n",
    "import matplotlib.pyplot as plt\n",
    "from wrappers import data_processing as dp\n",
    "import nltk\n",
    "\n",
    "%matplotlib inline"
   ]
  },
  {
   "cell_type": "code",
   "execution_count": 2,
   "metadata": {
    "collapsed": true
   },
   "outputs": [],
   "source": [
    "def remove_links_mentions(_str):\n",
    "    _list = _str.split()\n",
    "    _list = remove_words_by_str(_list, ['@', 't.co', 'http', '.com', '.net', '.org', '.io', 'rt'])\n",
    "    new_str = ''\n",
    "    for item in _list:\n",
    "        new_str += item + ' '\n",
    "    return new_str.strip()\n",
    "\n",
    "def replace_punctuation(_str, punctuation_list):\n",
    "    for p in punctuation_list:\n",
    "        _str = _str.replace(p, ' ')\n",
    "    return _str\n",
    "\n",
    "def remove_words_by_str(word_list, char_list):\n",
    "    \n",
    "    for char in char_list:\n",
    "        word_list = [word for word in word_list if char not in word]\n",
    "    \n",
    "    return word_list\n",
    "\n",
    "# take the cleaned token list and concat it so it is one string\n",
    "def concat_cleaned_tweet(token_list):\n",
    "    concat_tweet = ''\n",
    "    for t in token_list:\n",
    "        concat_tweet += t + ' '\n",
    "    concat_tweet = concat_tweet.replace(' .', '.').replace(' ,', ',')\n",
    "    concat_tweet = concat_tweet.replace(' ?', '?').replace(' !', '!')\n",
    "    concat_tweet = concat_tweet.replace('?.', '?').replace('!.', '!')\n",
    "    return concat_tweet.strip()\n",
    "\n",
    "# my methods are specific but not enough for amazon's mturk -- remove everything but alpha chars\n",
    "def clean_with_nltk(_str):\n",
    "    words = nltk.word_tokenize(_str)\n",
    "    words = [word for word in words if word.isalpha()]\n",
    "    \n",
    "    re_str = ''\n",
    "    for w in words:\n",
    "        re_str += w + ' '\n",
    "    \n",
    "    return re_str.strip()"
   ]
  },
  {
   "cell_type": "markdown",
   "metadata": {},
   "source": [
    "# Load Data"
   ]
  },
  {
   "cell_type": "code",
   "execution_count": 3,
   "metadata": {
    "collapsed": true
   },
   "outputs": [],
   "source": [
    "conn = sqlite3.connect('db/preprocessed.db')\n",
    "\n",
    "get_cols_query = '''\n",
    "SELECT id, tweets, tweets_bull_count, tweets_bear_count\n",
    "FROM twitter\n",
    "WHERE tweets_bull_count > 0\n",
    "OR tweets_bear_count > 0\n",
    "LIMIT 10000000;\n",
    "'''\n",
    "\n",
    "df = pd.read_sql(get_cols_query, conn)\n",
    "conn.close()\n",
    "\n",
    "# set index as id and drop orig col\n",
    "df.index = df.id\n",
    "df = df.drop('id', 1)\n",
    "df = df.sort_index(ascending = True)"
   ]
  },
  {
   "cell_type": "code",
   "execution_count": 3,
   "metadata": {},
   "outputs": [
    {
     "name": "stdout",
     "output_type": "stream",
     "text": [
      "loading data from preprocessed db\n"
     ]
    }
   ],
   "source": [
    "twitter_queries = ['bitcoin', '#BTC', '$BTC', 'ethereum', '#ETH', '$BTC']\n",
    "n_tweets = 8000000\n",
    "\n",
    "# load the most recent preprocessed tweets\n",
    "df = dp.get_recent_preprocessed_twitter_data(twitter_queries, n_tweets)\n",
    "\n",
    "# set index as id and drop orig col\n",
    "df.index = df.id\n",
    "df = df.drop('id', 1)\n",
    "df = df.sort_index(ascending = True)"
   ]
  },
  {
   "cell_type": "code",
   "execution_count": 4,
   "metadata": {
    "collapsed": true
   },
   "outputs": [],
   "source": [
    "# get a sample of both bull- and bear-likely tweets\n",
    "bull_sample = df[df.tweets_bull_count > 0].sample(50000)\n",
    "bear_sample = df[df.tweets_bear_count > 0].sample(50000)\n",
    "\n",
    "# combine them into one, drop the duplicates, and sort the index\n",
    "sample = bull_sample.append(bear_sample)\n",
    "df = sample.drop_duplicates()\n",
    "df = df.sort_index()\n",
    "\n",
    "df = df[['tweets', 'tweets_bull_count', 'tweets_bear_count']]"
   ]
  },
  {
   "cell_type": "code",
   "execution_count": 8,
   "metadata": {},
   "outputs": [
    {
     "data": {
      "text/html": [
       "<div>\n",
       "<style>\n",
       "    .dataframe thead tr:only-child th {\n",
       "        text-align: right;\n",
       "    }\n",
       "\n",
       "    .dataframe thead th {\n",
       "        text-align: left;\n",
       "    }\n",
       "\n",
       "    .dataframe tbody tr th {\n",
       "        vertical-align: top;\n",
       "    }\n",
       "</style>\n",
       "<table border=\"1\" class=\"dataframe\">\n",
       "  <thead>\n",
       "    <tr style=\"text-align: right;\">\n",
       "      <th></th>\n",
       "      <th>tweets</th>\n",
       "      <th>tweets_bull_count</th>\n",
       "      <th>tweets_bear_count</th>\n",
       "    </tr>\n",
       "    <tr>\n",
       "      <th>id</th>\n",
       "      <th></th>\n",
       "      <th></th>\n",
       "      <th></th>\n",
       "    </tr>\n",
       "  </thead>\n",
       "  <tbody>\n",
       "    <tr>\n",
       "      <th>907864088298082311</th>\n",
       "      <td>Strong words from JPM's Dimon but I think he's...</td>\n",
       "      <td>1</td>\n",
       "      <td>0</td>\n",
       "    </tr>\n",
       "    <tr>\n",
       "      <th>907864146615599104</th>\n",
       "      <td>RT @yicaichina: BitKan Suspends OTC Trading, V...</td>\n",
       "      <td>0</td>\n",
       "      <td>1</td>\n",
       "    </tr>\n",
       "    <tr>\n",
       "      <th>907864148964282368</th>\n",
       "      <td>Bring on the $BTC sale day!!! Let's get the co...</td>\n",
       "      <td>0</td>\n",
       "      <td>1</td>\n",
       "    </tr>\n",
       "    <tr>\n",
       "      <th>907864192618655744</th>\n",
       "      <td>RT @yicaichina: BitKan Suspends OTC Trading, V...</td>\n",
       "      <td>0</td>\n",
       "      <td>1</td>\n",
       "    </tr>\n",
       "    <tr>\n",
       "      <th>907864395853783040</th>\n",
       "      <td>Bitcoin has now broken the channel. $3150 seem...</td>\n",
       "      <td>0</td>\n",
       "      <td>2</td>\n",
       "    </tr>\n",
       "  </tbody>\n",
       "</table>\n",
       "</div>"
      ],
      "text/plain": [
       "                                                               tweets  \\\n",
       "id                                                                      \n",
       "907864088298082311  Strong words from JPM's Dimon but I think he's...   \n",
       "907864146615599104  RT @yicaichina: BitKan Suspends OTC Trading, V...   \n",
       "907864148964282368  Bring on the $BTC sale day!!! Let's get the co...   \n",
       "907864192618655744  RT @yicaichina: BitKan Suspends OTC Trading, V...   \n",
       "907864395853783040  Bitcoin has now broken the channel. $3150 seem...   \n",
       "\n",
       "                    tweets_bull_count  tweets_bear_count  \n",
       "id                                                        \n",
       "907864088298082311                  1                  0  \n",
       "907864146615599104                  0                  1  \n",
       "907864148964282368                  0                  1  \n",
       "907864192618655744                  0                  1  \n",
       "907864395853783040                  0                  2  "
      ]
     },
     "execution_count": 8,
     "metadata": {},
     "output_type": "execute_result"
    }
   ],
   "source": [
    "df.head()"
   ]
  },
  {
   "cell_type": "code",
   "execution_count": 7,
   "metadata": {
    "collapsed": true
   },
   "outputs": [],
   "source": []
  },
  {
   "cell_type": "markdown",
   "metadata": {},
   "source": [
    "# Show Sample"
   ]
  },
  {
   "cell_type": "code",
   "execution_count": 9,
   "metadata": {},
   "outputs": [
    {
     "name": "stdout",
     "output_type": "stream",
     "text": [
      "Strong words from JPM's Dimon but I think he's right. https://t.co/Kt0D4qNYK4\n",
      "\n",
      "RT @yicaichina: BitKan Suspends OTC Trading, Via BTC Won't Shut Down: Chinese Bitcoin Exchanges Feel Regulatory Heat https://t.co/1cBVLcsUr…\n",
      "\n",
      "Bring on the $BTC sale day!!! Let's get the correction out of the way already so we can continue the uptrend… https://t.co/uylL6mlaRe\n",
      "\n",
      "RT @yicaichina: BitKan Suspends OTC Trading, Via BTC Won't Shut Down: Chinese Bitcoin Exchanges Feel Regulatory Heat https://t.co/1cBVLcsUr…\n",
      "\n",
      "Bitcoin has now broken the channel. $3150 seems a valid target, but it tends to break down overnight and squeeze ba… https://t.co/9iwLfLYE2W\n",
      "\n",
      "just wait for the tipping point of fiat or for fiat failure.. https://t.co/zVlOqc85lK\n",
      "\n",
      "RT @carterthomas: Nothing like the fresh smell of fear from a $BTC free fall\n",
      "\n",
      "How Low Could Bitcoin Go on Negative Coverage? https://t.co/27nmt1oN8V\n",
      "\n",
      "#Bitcoin and the Jamie Dimon Bear: #Cryptocurrency Prices Approach 20% Slump https://t.co/WHdPA4UprX https://t.co/85VN5uLdWY\n",
      "\n",
      "Order your secure and smart Bitcoin hardware wallet - Only 69.60 EUR https://t.co/WC9nt6z1jz #bitcoin #btc 03:17 https://t.co/A2BSDcEeF9\n",
      "\n"
     ]
    }
   ],
   "source": [
    "# SAMPLE\n",
    "for t in df.tweets[:10]:\n",
    "    print(t)\n",
    "    print()"
   ]
  },
  {
   "cell_type": "markdown",
   "metadata": {},
   "source": [
    "# Steps:\n",
    "\n",
    " - make everything lowercase\n",
    " - remove all links and mentions\n",
    " - replace punctuation with a space (so when you split it, it is just words -- also to account for lack of space when people type)\n",
    " - remove common words and elements"
   ]
  },
  {
   "cell_type": "code",
   "execution_count": 10,
   "metadata": {
    "collapsed": true
   },
   "outputs": [],
   "source": [
    "# set everything to be lowercase\n",
    "df.tweets = df.tweets.str.lower()\n",
    "\n",
    "# remove links and mentions from tweets\n",
    "df.tweets = df.tweets.apply(lambda x: remove_links_mentions(x))\n",
    "\n",
    "# replace the punctuation\n",
    "punctuation_to_replace = [\n",
    "    \n",
    "    '~', '`', '^', '*', '(', ')', '-', '_',\n",
    "    '+', '=', '{', '}', '[', ']', '|', '\\\\',\n",
    "    ':', ';', '\"', \"'\", '<', '>', '/', ','\n",
    "\n",
    "]\n",
    "\n",
    "# replace all punctuation in list\n",
    "df.tweets = df.tweets.apply(lambda x: replace_punctuation(x, punctuation_to_replace))\n",
    "\n",
    "# create 'tweet' tokens :)\n",
    "df['tokens'] = df.tweets.apply(lambda x: x.split())\n",
    "\n",
    "# concat the tokens so they are a full string again\n",
    "df['cleaned_tweets'] = df.tokens.apply(lambda x: concat_cleaned_tweet(x))"
   ]
  },
  {
   "cell_type": "code",
   "execution_count": 11,
   "metadata": {
    "collapsed": true
   },
   "outputs": [],
   "source": [
    "'''\n",
    "EXTRA CLEAN (ONLY ALPHA, VIA NLTK)\n",
    "'''\n",
    "df.cleaned_tweets = df.cleaned_tweets.apply(lambda x: clean_with_nltk(x))"
   ]
  },
  {
   "cell_type": "code",
   "execution_count": null,
   "metadata": {
    "collapsed": true
   },
   "outputs": [],
   "source": []
  },
  {
   "cell_type": "code",
   "execution_count": 12,
   "metadata": {},
   "outputs": [
    {
     "data": {
      "text/html": [
       "<div>\n",
       "<style>\n",
       "    .dataframe thead tr:only-child th {\n",
       "        text-align: right;\n",
       "    }\n",
       "\n",
       "    .dataframe thead th {\n",
       "        text-align: left;\n",
       "    }\n",
       "\n",
       "    .dataframe tbody tr th {\n",
       "        vertical-align: top;\n",
       "    }\n",
       "</style>\n",
       "<table border=\"1\" class=\"dataframe\">\n",
       "  <thead>\n",
       "    <tr style=\"text-align: right;\">\n",
       "      <th></th>\n",
       "      <th>tweets</th>\n",
       "      <th>tweets_bull_count</th>\n",
       "      <th>tweets_bear_count</th>\n",
       "      <th>tokens</th>\n",
       "      <th>cleaned_tweets</th>\n",
       "    </tr>\n",
       "    <tr>\n",
       "      <th>id</th>\n",
       "      <th></th>\n",
       "      <th></th>\n",
       "      <th></th>\n",
       "      <th></th>\n",
       "      <th></th>\n",
       "    </tr>\n",
       "  </thead>\n",
       "  <tbody>\n",
       "    <tr>\n",
       "      <th>907864088298082311</th>\n",
       "      <td>strong words from jpm s dimon but i think he s...</td>\n",
       "      <td>1</td>\n",
       "      <td>0</td>\n",
       "      <td>[strong, words, from, jpm, s, dimon, but, i, t...</td>\n",
       "      <td>strong words from jpm s dimon but i think he s...</td>\n",
       "    </tr>\n",
       "    <tr>\n",
       "      <th>907864146615599104</th>\n",
       "      <td>bitkan suspends otc trading  via btc won t shu...</td>\n",
       "      <td>0</td>\n",
       "      <td>1</td>\n",
       "      <td>[bitkan, suspends, otc, trading, via, btc, won...</td>\n",
       "      <td>bitkan suspends otc trading via btc won t shut...</td>\n",
       "    </tr>\n",
       "    <tr>\n",
       "      <th>907864148964282368</th>\n",
       "      <td>bring on the $btc sale day!!! let s get the co...</td>\n",
       "      <td>0</td>\n",
       "      <td>1</td>\n",
       "      <td>[bring, on, the, $btc, sale, day!!!, let, s, g...</td>\n",
       "      <td>bring on the btc sale day let s get the correc...</td>\n",
       "    </tr>\n",
       "    <tr>\n",
       "      <th>907864192618655744</th>\n",
       "      <td>bitkan suspends otc trading  via btc won t shu...</td>\n",
       "      <td>0</td>\n",
       "      <td>1</td>\n",
       "      <td>[bitkan, suspends, otc, trading, via, btc, won...</td>\n",
       "      <td>bitkan suspends otc trading via btc won t shut...</td>\n",
       "    </tr>\n",
       "    <tr>\n",
       "      <th>907864395853783040</th>\n",
       "      <td>bitcoin has now broken the channel. $3150 seem...</td>\n",
       "      <td>0</td>\n",
       "      <td>2</td>\n",
       "      <td>[bitcoin, has, now, broken, the, channel., $31...</td>\n",
       "      <td>bitcoin has now broken the channel seems a val...</td>\n",
       "    </tr>\n",
       "  </tbody>\n",
       "</table>\n",
       "</div>"
      ],
      "text/plain": [
       "                                                               tweets  \\\n",
       "id                                                                      \n",
       "907864088298082311  strong words from jpm s dimon but i think he s...   \n",
       "907864146615599104  bitkan suspends otc trading  via btc won t shu...   \n",
       "907864148964282368  bring on the $btc sale day!!! let s get the co...   \n",
       "907864192618655744  bitkan suspends otc trading  via btc won t shu...   \n",
       "907864395853783040  bitcoin has now broken the channel. $3150 seem...   \n",
       "\n",
       "                    tweets_bull_count  tweets_bear_count  \\\n",
       "id                                                         \n",
       "907864088298082311                  1                  0   \n",
       "907864146615599104                  0                  1   \n",
       "907864148964282368                  0                  1   \n",
       "907864192618655744                  0                  1   \n",
       "907864395853783040                  0                  2   \n",
       "\n",
       "                                                               tokens  \\\n",
       "id                                                                      \n",
       "907864088298082311  [strong, words, from, jpm, s, dimon, but, i, t...   \n",
       "907864146615599104  [bitkan, suspends, otc, trading, via, btc, won...   \n",
       "907864148964282368  [bring, on, the, $btc, sale, day!!!, let, s, g...   \n",
       "907864192618655744  [bitkan, suspends, otc, trading, via, btc, won...   \n",
       "907864395853783040  [bitcoin, has, now, broken, the, channel., $31...   \n",
       "\n",
       "                                                       cleaned_tweets  \n",
       "id                                                                     \n",
       "907864088298082311  strong words from jpm s dimon but i think he s...  \n",
       "907864146615599104  bitkan suspends otc trading via btc won t shut...  \n",
       "907864148964282368  bring on the btc sale day let s get the correc...  \n",
       "907864192618655744  bitkan suspends otc trading via btc won t shut...  \n",
       "907864395853783040  bitcoin has now broken the channel seems a val...  "
      ]
     },
     "execution_count": 12,
     "metadata": {},
     "output_type": "execute_result"
    }
   ],
   "source": [
    "df.head()"
   ]
  },
  {
   "cell_type": "code",
   "execution_count": null,
   "metadata": {
    "collapsed": true
   },
   "outputs": [],
   "source": []
  },
  {
   "cell_type": "code",
   "execution_count": null,
   "metadata": {
    "collapsed": true
   },
   "outputs": [],
   "source": []
  },
  {
   "cell_type": "code",
   "execution_count": null,
   "metadata": {
    "collapsed": true
   },
   "outputs": [],
   "source": []
  },
  {
   "cell_type": "markdown",
   "metadata": {
    "collapsed": true
   },
   "source": [
    "# EXPORT"
   ]
  },
  {
   "cell_type": "code",
   "execution_count": 13,
   "metadata": {
    "collapsed": true
   },
   "outputs": [],
   "source": [
    "only_cleaned_tweets = df.cleaned_tweets"
   ]
  },
  {
   "cell_type": "code",
   "execution_count": 14,
   "metadata": {
    "collapsed": true
   },
   "outputs": [],
   "source": [
    "only_cleaned_tweets.drop_duplicates().to_csv('tweets_for_classification.csv', encoding = 'utf-8')"
   ]
  },
  {
   "cell_type": "code",
   "execution_count": null,
   "metadata": {
    "collapsed": true
   },
   "outputs": [],
   "source": []
  },
  {
   "cell_type": "code",
   "execution_count": null,
   "metadata": {
    "collapsed": true
   },
   "outputs": [],
   "source": []
  },
  {
   "cell_type": "code",
   "execution_count": null,
   "metadata": {
    "collapsed": true
   },
   "outputs": [],
   "source": []
  }
 ],
 "metadata": {
  "kernelspec": {
   "display_name": "Python [default]",
   "language": "python",
   "name": "python3"
  },
  "language_info": {
   "codemirror_mode": {
    "name": "ipython",
    "version": 3
   },
   "file_extension": ".py",
   "mimetype": "text/x-python",
   "name": "python",
   "nbconvert_exporter": "python",
   "pygments_lexer": "ipython3",
   "version": "3.5.2"
  }
 },
 "nbformat": 4,
 "nbformat_minor": 2
}
