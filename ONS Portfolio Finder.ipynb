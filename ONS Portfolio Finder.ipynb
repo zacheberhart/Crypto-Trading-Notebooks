{
 "cells": [
  {
   "cell_type": "code",
   "execution_count": 2,
   "metadata": {},
   "outputs": [
    {
     "name": "stderr",
     "output_type": "stream",
     "text": [
      "/Users/zach-eberhart/anaconda/lib/python3.5/site-packages/statsmodels/compat/pandas.py:56: FutureWarning: The pandas.core.datetools module is deprecated and will be removed in a future version. Please use the pandas.tseries module instead.\n",
      "  from pandas.core import datetools\n"
     ]
    }
   ],
   "source": [
    "# ESSENTIAL\n",
    "import pandas as pd\n",
    "import numpy as np\n",
    "import matplotlib as mpl\n",
    "import matplotlib.pyplot as plt\n",
    "import sqlite3\n",
    "import random\n",
    "import os\n",
    "import logging\n",
    "from datetime import datetime\n",
    "from itertools import combinations\n",
    "from tqdm import tnrange, tqdm_notebook\n",
    "\n",
    "# PORTFOLIO\n",
    "import six\n",
    "import tools\n",
    "from algo import Algo\n",
    "from cvxopt import solvers, matrix\n",
    "solvers.options['show_progress'] = False\n",
    "\n",
    "# ML\n",
    "from sklearn.preprocessing import StandardScaler, MinMaxScaler\n",
    "\n",
    "# CUSTOM\n",
    "import sys\n",
    "module_path = os.path.abspath(os.path.join('..'))\n",
    "if module_path not in sys.path:\n",
    "    sys.path.append(module_path)\n",
    "from wrappers import bitfinex as bfx\n",
    "from wrappers import technical_analysis as ta\n",
    "\n",
    "%matplotlib inline"
   ]
  },
  {
   "cell_type": "code",
   "execution_count": 56,
   "metadata": {
    "collapsed": true
   },
   "outputs": [],
   "source": [
    "def get_trade_history_from_date(cp, _from):\n",
    "    \n",
    "    # connect to db\n",
    "    conn = sqlite3.connect('../db/crypto.db')\n",
    "    \n",
    "    # get trade history per currency pair and date specified\n",
    "    get_data_query = '''\n",
    "    \n",
    "    SELECT date, currency_pair, rate, amount\n",
    "    FROM trade_history\n",
    "    WHERE currency_pair=\"%s\"\n",
    "    AND date >= %s;\n",
    "    \n",
    "    ''' % (cp, _from)\n",
    "    \n",
    "    # read into df and close connection\n",
    "    df = pd.read_sql(get_data_query, conn)\n",
    "    conn.close()\n",
    "    \n",
    "    return df\n",
    "\n",
    "# parse out performance summary from portfolio object\n",
    "def olps_stats(df):\n",
    "    \n",
    "    for name, r in df.results.iteritems():\n",
    "        df.ix[name,'profit'] = r.profit_factor\n",
    "        df.ix[name,'sharpe'] = r.sharpe\n",
    "        df.ix[name,'information'] = r.information\n",
    "        df.ix[name,'annualized_return'] = r.annualized_return * 100\n",
    "        df.ix[name,'drawdown_period'] = r.drawdown_period\n",
    "        df.ix[name,'winning_pct'] = r.winning_pct * 100\n",
    "    \n",
    "    return df\n",
    "\n",
    "# run trading simulation with current online portfolio optim algo\n",
    "def trading_simulation(price_df, init_capital, train_window, trading_fee = 0.0, progress_print = 25):\n",
    "\n",
    "    wealth_history = []\n",
    "    capital = int(init_capital)\n",
    "    counter = 0\n",
    "\n",
    "    for i in range(train_window, price_df.shape[0]+1):\n",
    "\n",
    "        try:\n",
    "        \n",
    "            # set the price df and date for the current period\n",
    "            current_prices = price_df.iloc[:i,:]\n",
    "            current_period = current_prices.index[-1]\n",
    "\n",
    "            # run portfolio optim algo on current \n",
    "            algo = ONS()\n",
    "            algo = algo.run(current_prices)\n",
    "\n",
    "            # get asset weights\n",
    "            current_weights = algo.weights\n",
    "\n",
    "            # if it is the first time, get n_assets by init wealth. otherwise, first calculate new wealth\n",
    "            if counter == 0:\n",
    "                asset_allocation = current_weights.loc[current_period] * capital\n",
    "                n_assets_owned = asset_allocation / current_prices.loc[current_period]\n",
    "            \n",
    "            # otherwise, balance portfolio while accounting for trading costs\n",
    "            else:\n",
    "                capital = (n_assets_owned * current_prices.loc[current_period]).sum()\n",
    "                new_asset_allocation = current_weights.loc[current_period] * capital\n",
    "                trading_fee_per_asset = abs(asset_allocation - new_asset_allocation) * trading_fee\n",
    "                asset_allocation = new_asset_allocation - trading_fee_per_asset\n",
    "                n_assets_owned = asset_allocation / current_prices.loc[current_period]\n",
    "\n",
    "            # save history and print progress\n",
    "            if capital <= 0: break\n",
    "            wealth_history.append(capital)\n",
    "            counter += 1\n",
    "            if counter % progress_print == 0:\n",
    "                print('Date:', current_period)\n",
    "                print('Capital:', capital)\n",
    "                print()\n",
    "\n",
    "        except: return wealth_history\n",
    "\n",
    "    #print('Success!')\n",
    "    return wealth_history\n",
    "\n",
    "# helpert to calculate sharpe from trended portfolio value / performance\n",
    "def sharpe_from_performance(trended_portfolio_value, risk_free = 0):\n",
    "    \n",
    "    # add to an array and calculate returns\n",
    "    performance = np.array(trended_portfolio_value)\n",
    "    returns = performance[1:] / performance[:-1]\n",
    "    \n",
    "    # calc sharpe\n",
    "    volatility = returns.std() * np.sqrt(len(returns))\n",
    "    sharpe_ratio = (returns.mean() - risk_free) / volatility\n",
    "    \n",
    "    return sharpe_ratio\n",
    "\n",
    "def max_drawdown(trended_performance):\n",
    "    \n",
    "    # only compare each point to the previous running peak\n",
    "    trended_performance = pd.Series(trended_performance).copy()\n",
    "    running_max = pd.expanding_max(trended_performance)\n",
    "    cur_dd = trended_performance - running_max\n",
    "    dd = min(0, cur_dd.min())\n",
    "    \n",
    "    return abs(dd / trended_performance.max())\n",
    "\n",
    "# print performance summary\n",
    "def performance_summary(performance):\n",
    "    \n",
    "    # KPIs\n",
    "    return_ = performance[-1] / performance[0]\n",
    "    sharpe_ = sharpe_from_performance(performance)\n",
    "    mdd_ = max_drawdown(performance)\n",
    "    \n",
    "    return return_, sharpe_, mdd_"
   ]
  },
  {
   "cell_type": "code",
   "execution_count": 4,
   "metadata": {
    "collapsed": true
   },
   "outputs": [],
   "source": [
    "class ONS(Algo):\n",
    "    \"\"\"\n",
    "    Online newton step algorithm.\n",
    "\n",
    "    Reference:\n",
    "        A.Agarwal, E.Hazan, S.Kale, R.E.Schapire.\n",
    "        Algorithms for Portfolio Management based on the Newton Method, 2006.\n",
    "        http://machinelearning.wustl.edu/mlpapers/paper_files/icml2006_AgarwalHKS06.pdf\n",
    "    \"\"\"\n",
    "\n",
    "    REPLACE_MISSING = True\n",
    "\n",
    "    def __init__(self, delta=0.125, beta=1., eta=0.):\n",
    "        \"\"\"\n",
    "        :param delta, beta, eta: Model parameters. See paper.\n",
    "        \"\"\"\n",
    "        super(ONS, self).__init__()\n",
    "        self.delta = delta\n",
    "        self.beta = beta\n",
    "        self.eta = eta\n",
    "\n",
    "\n",
    "    def init_weights(self, m):\n",
    "        return np.ones(m) / m\n",
    "\n",
    "\n",
    "    def init_step(self, X):\n",
    "        m = X.shape[1]\n",
    "        self.A = np.mat(np.eye(m))\n",
    "        self.b = np.mat(np.zeros(m)).T\n",
    "\n",
    "\n",
    "    def step(self, r, p):\n",
    "        # calculate gradient\n",
    "        grad = np.mat(r / np.dot(p, r)).T\n",
    "        # update A\n",
    "        self.A += grad * grad.T\n",
    "        # update b\n",
    "        self.b += (1 + 1./self.beta) * grad\n",
    "\n",
    "        # projection of p induced by norm A\n",
    "        pp = self.projection_in_norm(self.delta * self.A.I * self.b, self.A)\n",
    "        return pp * (1 - self.eta) + np.ones(len(r)) / float(len(r)) * self.eta\n",
    "\n",
    "    def projection_in_norm(self, x, M):\n",
    "        \"\"\" Projection of x to simplex indiced by matrix M. Uses quadratic programming.\n",
    "        \"\"\"\n",
    "        m = M.shape[0]\n",
    "\n",
    "        P = matrix(2*M)\n",
    "        q = matrix(-2 * M * x)\n",
    "        G = matrix(-np.eye(m))\n",
    "        h = matrix(np.zeros((m,1)))\n",
    "        A = matrix(np.ones((1,m)))\n",
    "        b = matrix(1.)\n",
    "\n",
    "        sol = solvers.qp(P, q, G, h, A, b)\n",
    "        return np.squeeze(sol['x'])"
   ]
  },
  {
   "cell_type": "code",
   "execution_count": 4,
   "metadata": {
    "collapsed": true
   },
   "outputs": [],
   "source": [
    "# this is the current list of all currency pairs in the db (and basically, all that's currenly on bfx (2017/20/01))\n",
    "all_currency_pairs = [\n",
    "    \n",
    "    'USDT_BTC', 'USDT_BCH', 'USDT_LTC',\n",
    "    'USDT_ETH', 'USDT_ETC', 'USDT_ZEC',\n",
    "    'USDT_XMR', 'USDT_DASH', 'USDT_SAN',\n",
    "    'USDT_NEO', 'USDT_IOTA', 'USDT_OMG',\n",
    "    'USDT_QTUM', 'USDT_BTG', 'USDT_XRP',\n",
    "    'USDT_GNT', 'USDT_BAT', 'USDT_ZRX',\n",
    "    'USDT_FUN', 'USDT_EDO', 'USDT_AVT',\n",
    "    'USDT_SNT', 'USDT_QASH', 'USDT_SPANK',\n",
    "    'USDT_EOS'\n",
    "    \n",
    "]"
   ]
  },
  {
   "cell_type": "code",
   "execution_count": 7,
   "metadata": {},
   "outputs": [],
   "source": [
    "# IMPORT BACKUP\n",
    "df = pd.read_csv('portfolio_export_all_indicators_24H.csv')\n",
    "df.index = pd.to_datetime(df['date'])\n",
    "df = df.drop('date', 1)\n",
    "\n",
    "# filter down to just close and currency pair\n",
    "df = df[['close', 'currency_pair']]\n",
    "\n",
    "# check what the earliest date i have data for, for each pair\n",
    "#df['date'] = df.index\n",
    "#df.groupby('currency_pair').min().sort_values('date', ascending = False).date"
   ]
  },
  {
   "cell_type": "code",
   "execution_count": 146,
   "metadata": {},
   "outputs": [
    {
     "name": "stdout",
     "output_type": "stream",
     "text": [
      "xdf shape: (89, 14)\n"
     ]
    }
   ],
   "source": [
    "# # with enough data\n",
    "# currency_pairs = [\n",
    "    \n",
    "#     'USDT_BTG', 'USDT_EDO', 'USDT_QTUM',\n",
    "#     'USDT_AVT', 'USDT_NEO', 'USDT_BCH',\n",
    "#     'USDT_OMG', 'USDT_SAN', 'USDT_EOS',\n",
    "#     'USDT_IOTA', 'USDT_ZEC', 'USDT_ETC',\n",
    "#     'USDT_ETH', 'USDT_XRP', 'USDT_BTC',\n",
    "#     'USDT_DASH', 'USDT_XMR', 'USDT_LTC'\n",
    "# ]\n",
    "\n",
    "# # highest returns\n",
    "# currency_pairs = [\n",
    "    \n",
    "#     'USDT_BTG', 'USDT_EDO', 'USDT_SAN',\n",
    "#     'USDT_ZEC', 'USDT_ETC', 'USDT_XRP',\n",
    "#     'USDT_BTC', 'USDT_XMR'\n",
    "    \n",
    "# ]\n",
    "\n",
    "# # highest sharpe with high returns\n",
    "# currency_pairs = [\n",
    "#     'USDT_BTG', 'USDT_EDO', 'USDT_NEO',\n",
    "#     'USDT_BCH', 'USDT_SAN', 'USDT_EOS',\n",
    "#     'USDT_IOTA', 'USDT_ZEC', 'USDT_ETC',\n",
    "#     'USDT_ETH', 'USDT_XRP', 'USDT_BTC',\n",
    "#     'USDT_DASH', 'USDT_XMR', 'USDT_LTC'\n",
    "# ]\n",
    "\n",
    "# manual sim, high return and high sharpe\n",
    "currency_pairs = [\n",
    "    'USDT_BTG',\n",
    "    'USDT_EDO',\n",
    "    'USDT_NEO',\n",
    "    'USDT_BCH',\n",
    "    'USDT_SAN',\n",
    "    'USDT_EOS',\n",
    "    'USDT_IOTA',\n",
    "    'USDT_ZEC',\n",
    "    'USDT_ETC',\n",
    "    'USDT_ETH',\n",
    "    'USDT_BTC',\n",
    "    'USDT_DASH',\n",
    "    'USDT_XMR',\n",
    "    'USDT_LTC'\n",
    "]\n",
    "\n",
    "# manual sim, best returns\n",
    "# currency_pairs = [\n",
    "#     'USDT_BTG',\n",
    "#     'USDT_EDO',\n",
    "#     'USDT_NEO',\n",
    "#     'USDT_BCH',\n",
    "#     'USDT_SAN',\n",
    "#     'USDT_EOS',\n",
    "#     'USDT_IOTA',\n",
    "#     'USDT_ZEC',\n",
    "#     'USDT_ETH',\n",
    "#     'USDT_XRP',\n",
    "#     'USDT_BTC',\n",
    "#     'USDT_DASH',\n",
    "#     'USDT_XMR',\n",
    "#     'USDT_LTC'\n",
    "# ]\n",
    "\n",
    "# init a df with BTC dt index (prob has the most data)\n",
    "xdf = pd.DataFrame(index = df[df.currency_pair == 'USDT_BTC'].index)\n",
    "\n",
    "for cp in currency_pairs:\n",
    "    \n",
    "    # filter down to current cp and remove last col (currency_pair)\n",
    "    tdf = df[df.currency_pair == cp].iloc[:,:-1]\n",
    "    \n",
    "    # clean up cp name and append to col names\n",
    "    clean_cp = cp.lower().replace('_','')\n",
    "    new_cols = [clean_cp + '_' + col for col in tdf.columns.tolist()]\n",
    "    tdf.columns = new_cols\n",
    "    \n",
    "    # add to full df\n",
    "    xdf = xdf.join(tdf, how = 'left')\n",
    "\n",
    "xdf = xdf.dropna()\n",
    "print('xdf shape:', xdf.shape)"
   ]
  },
  {
   "cell_type": "code",
   "execution_count": 147,
   "metadata": {},
   "outputs": [
    {
     "data": {
      "text/html": [
       "<div>\n",
       "<style scoped>\n",
       "    .dataframe tbody tr th:only-of-type {\n",
       "        vertical-align: middle;\n",
       "    }\n",
       "\n",
       "    .dataframe tbody tr th {\n",
       "        vertical-align: top;\n",
       "    }\n",
       "\n",
       "    .dataframe thead th {\n",
       "        text-align: right;\n",
       "    }\n",
       "</style>\n",
       "<table border=\"1\" class=\"dataframe\">\n",
       "  <thead>\n",
       "    <tr style=\"text-align: right;\">\n",
       "      <th></th>\n",
       "      <th>usdtbtg_close</th>\n",
       "      <th>usdtedo_close</th>\n",
       "      <th>usdtneo_close</th>\n",
       "      <th>usdtbch_close</th>\n",
       "      <th>usdtsan_close</th>\n",
       "      <th>usdteos_close</th>\n",
       "      <th>usdtiota_close</th>\n",
       "      <th>usdtzec_close</th>\n",
       "      <th>usdtetc_close</th>\n",
       "      <th>usdteth_close</th>\n",
       "      <th>usdtbtc_close</th>\n",
       "      <th>usdtdash_close</th>\n",
       "      <th>usdtxmr_close</th>\n",
       "      <th>usdtltc_close</th>\n",
       "    </tr>\n",
       "    <tr>\n",
       "      <th>date</th>\n",
       "      <th></th>\n",
       "      <th></th>\n",
       "      <th></th>\n",
       "      <th></th>\n",
       "      <th></th>\n",
       "      <th></th>\n",
       "      <th></th>\n",
       "      <th></th>\n",
       "      <th></th>\n",
       "      <th></th>\n",
       "      <th></th>\n",
       "      <th></th>\n",
       "      <th></th>\n",
       "      <th></th>\n",
       "    </tr>\n",
       "  </thead>\n",
       "  <tbody>\n",
       "    <tr>\n",
       "      <th>2017-10-24</th>\n",
       "      <td>105.13</td>\n",
       "      <td>2.3702</td>\n",
       "      <td>30.003</td>\n",
       "      <td>322.32</td>\n",
       "      <td>0.23476</td>\n",
       "      <td>0.51227</td>\n",
       "      <td>0.4550</td>\n",
       "      <td>214.99</td>\n",
       "      <td>10.442</td>\n",
       "      <td>296.30</td>\n",
       "      <td>5508.76</td>\n",
       "      <td>290.20</td>\n",
       "      <td>88.298</td>\n",
       "      <td>55.635</td>\n",
       "    </tr>\n",
       "    <tr>\n",
       "      <th>2017-10-25</th>\n",
       "      <td>110.00</td>\n",
       "      <td>2.1100</td>\n",
       "      <td>28.595</td>\n",
       "      <td>328.93</td>\n",
       "      <td>0.21680</td>\n",
       "      <td>0.50540</td>\n",
       "      <td>0.4434</td>\n",
       "      <td>215.76</td>\n",
       "      <td>10.466</td>\n",
       "      <td>295.46</td>\n",
       "      <td>5709.31</td>\n",
       "      <td>286.01</td>\n",
       "      <td>87.269</td>\n",
       "      <td>56.039</td>\n",
       "    </tr>\n",
       "  </tbody>\n",
       "</table>\n",
       "</div>"
      ],
      "text/plain": [
       "            usdtbtg_close  usdtedo_close  usdtneo_close  usdtbch_close  \\\n",
       "date                                                                     \n",
       "2017-10-24         105.13         2.3702         30.003         322.32   \n",
       "2017-10-25         110.00         2.1100         28.595         328.93   \n",
       "\n",
       "            usdtsan_close  usdteos_close  usdtiota_close  usdtzec_close  \\\n",
       "date                                                                      \n",
       "2017-10-24        0.23476        0.51227          0.4550         214.99   \n",
       "2017-10-25        0.21680        0.50540          0.4434         215.76   \n",
       "\n",
       "            usdtetc_close  usdteth_close  usdtbtc_close  usdtdash_close  \\\n",
       "date                                                                      \n",
       "2017-10-24         10.442         296.30        5508.76          290.20   \n",
       "2017-10-25         10.466         295.46        5709.31          286.01   \n",
       "\n",
       "            usdtxmr_close  usdtltc_close  \n",
       "date                                      \n",
       "2017-10-24         88.298         55.635  \n",
       "2017-10-25         87.269         56.039  "
      ]
     },
     "execution_count": 147,
     "metadata": {},
     "output_type": "execute_result"
    }
   ],
   "source": [
    "xdf.head(2)"
   ]
  },
  {
   "cell_type": "code",
   "execution_count": 148,
   "metadata": {
    "collapsed": true
   },
   "outputs": [],
   "source": [
    "price_df = xdf[[col for col in xdf.columns.tolist() if 'close' in col]]\n",
    "\n",
    "# scale data so there are no negatives\n",
    "scaler = MinMaxScaler(feature_range = (0.01, 1.01))\n",
    "scaled_prices = scaler.fit_transform(price_df).copy()\n",
    "scaled_prices = pd.DataFrame(scaled_prices)\n",
    "scaled_prices.columns = [col for col in price_df.columns.tolist()]"
   ]
  },
  {
   "cell_type": "code",
   "execution_count": 149,
   "metadata": {
    "collapsed": true
   },
   "outputs": [],
   "source": [
    "ons = ONS()"
   ]
  },
  {
   "cell_type": "code",
   "execution_count": 150,
   "metadata": {
    "collapsed": true
   },
   "outputs": [],
   "source": [
    "ons = ons.run(scaled_prices)"
   ]
  },
  {
   "cell_type": "code",
   "execution_count": 151,
   "metadata": {
    "collapsed": true
   },
   "outputs": [],
   "source": [
    "#ons.plot(weights = True, figsize = (15, 10));"
   ]
  },
  {
   "cell_type": "code",
   "execution_count": 152,
   "metadata": {
    "collapsed": true
   },
   "outputs": [],
   "source": [
    "#eg.plot(weights = True, figsize = (15, 10));"
   ]
  },
  {
   "cell_type": "code",
   "execution_count": 153,
   "metadata": {},
   "outputs": [
    {
     "data": {
      "text/plain": [
       "(89, 14)"
      ]
     },
     "execution_count": 153,
     "metadata": {},
     "output_type": "execute_result"
    }
   ],
   "source": [
    "price_df.shape"
   ]
  },
  {
   "cell_type": "code",
   "execution_count": 154,
   "metadata": {
    "collapsed": true
   },
   "outputs": [],
   "source": [
    "wealth = 100000\n",
    "training_days = 14\n",
    "wealth_history = []\n",
    "counter = 0\n",
    "\n",
    "for i in range(training_days, price_df.shape[0]):\n",
    "    \n",
    "    # set the price df and date for the \"today\" of this iteration\n",
    "    current_prices = price_df.iloc[:i,:]\n",
    "    today = current_prices.index[-1]\n",
    "\n",
    "    # init online newton step algo\n",
    "    ons = ONS()\n",
    "    ons = ons.run(current_prices)\n",
    "    \n",
    "    # get asset weights\n",
    "    current_weights = ons.weights\n",
    "    \n",
    "    # if it is the first time, get n_assets by init wealth. otherwise, first calculate new wealth\n",
    "    if counter == 0:\n",
    "        n_assets_owned = (current_weights.loc[today] * wealth) / current_prices.loc[today]\n",
    "    else:\n",
    "        wealth = (n_assets_owned * current_prices.loc[today]).sum()\n",
    "        n_assets_owned = (current_weights.loc[today] * wealth) / current_prices.loc[today]\n",
    "    \n",
    "    #if counter == 1: break\n",
    "    wealth_history.append(wealth)\n",
    "    counter += 1"
   ]
  },
  {
   "cell_type": "code",
   "execution_count": 155,
   "metadata": {
    "collapsed": true
   },
   "outputs": [],
   "source": [
    "# n_eth_hodl = 50000 / price_df.loc[today].usdteth_close\n",
    "# n_btc_hodl = 50000 / price_df.loc[today].usdtbtc_close\n",
    "# hodl_eth = (price_df.usdteth_close * n_eth_hodl).loc[today:]\n",
    "# hodl_btc = (price_df.usdtbtc_close * n_btc_hodl).loc[today:]"
   ]
  },
  {
   "cell_type": "code",
   "execution_count": 156,
   "metadata": {},
   "outputs": [
    {
     "data": {
      "image/png": "[encoded data removed]",
      "text/plain": [
       "<matplotlib.figure.Figure at 0x10d261748>"
      ]
     },
     "metadata": {},
     "output_type": "display_data"
    }
   ],
   "source": [
    "pd.DataFrame(wealth_history, index = price_df.index[training_days:]).plot();\n",
    "# pd.DataFrame(hodl_eth.reshape(-1,1)[1:]).plot()\n",
    "# pd.DataFrame(hodl_btc.reshape(-1,1)[1:]).plot();"
   ]
  },
  {
   "cell_type": "code",
   "execution_count": 66,
   "metadata": {},
   "outputs": [
    {
     "data": {
      "text/plain": [
       "54871.035203903804"
      ]
     },
     "execution_count": 66,
     "metadata": {},
     "output_type": "execute_result"
    }
   ],
   "source": [
    "hodl_btc[-1]"
   ]
  },
  {
   "cell_type": "code",
   "execution_count": 65,
   "metadata": {},
   "outputs": [
    {
     "data": {
      "text/plain": [
       "53864.032539221393"
      ]
     },
     "execution_count": 65,
     "metadata": {},
     "output_type": "execute_result"
    }
   ],
   "source": [
    "hodl_eth[-1]"
   ]
  },
  {
   "cell_type": "markdown",
   "metadata": {},
   "source": [
    "# Test On All Available Coins"
   ]
  },
  {
   "cell_type": "code",
   "execution_count": 84,
   "metadata": {
    "collapsed": true
   },
   "outputs": [],
   "source": [
    "ons = ONS()\n",
    "ons = ons.run(scaled_prices)"
   ]
  },
  {
   "cell_type": "code",
   "execution_count": 85,
   "metadata": {},
   "outputs": [
    {
     "name": "stdout",
     "output_type": "stream",
     "text": [
      "Summary:\n",
      "    Profit factor: 2.04\n",
      "    Sharpe ratio: 3.69\n",
      "    Information ratio (wrt UCRP): 1.51\n",
      "    Annualized return: 40704027491.26%\n",
      "    Annualized volatility: 823.96%\n",
      "    Longest drawdown: 13 days\n",
      "    Max drawdown: 61.20%\n",
      "    Winning days: 60.2%\n",
      "        \n"
     ]
    }
   ],
   "source": [
    "print(ons.summary())"
   ]
  },
  {
   "cell_type": "code",
   "execution_count": 88,
   "metadata": {
    "collapsed": true
   },
   "outputs": [],
   "source": [
    "#ons.plot(weights = True, figsize = (15, 10));"
   ]
  },
  {
   "cell_type": "markdown",
   "metadata": {},
   "source": [
    "# Test ONS On All Coin Combos"
   ]
  },
  {
   "cell_type": "code",
   "execution_count": 101,
   "metadata": {},
   "outputs": [
    {
     "name": "stdout",
     "output_type": "stream",
     "text": [
      "starting iteration: 0\n",
      "starting iteration: 1\n",
      "starting iteration: 2\n",
      "starting iteration: 3\n",
      "starting iteration: 4\n",
      "starting iteration: 5\n",
      "starting iteration: 6\n",
      "starting iteration: 7\n",
      "starting iteration: 8\n",
      "starting iteration: 9\n",
      "starting iteration: 10\n",
      "starting iteration: 11\n",
      "starting iteration: 12\n",
      "starting iteration: 13\n",
      "starting iteration: 14\n",
      "starting iteration: 15\n",
      "starting iteration: 16\n",
      "starting iteration: 17\n",
      "starting iteration: 18\n",
      "\n",
      "There are 262143 possible combos total!\n",
      "But we're only using 261972 combos\n"
     ]
    }
   ],
   "source": [
    "all_coins = {\n",
    "    \n",
    "    0: 'USDT_BTG',\n",
    "    1: 'USDT_EDO',\n",
    "    2: 'USDT_QTUM',\n",
    "    3: 'USDT_AVT',\n",
    "    4: 'USDT_NEO',\n",
    "    5: 'USDT_BCH',\n",
    "    6: 'USDT_OMG',\n",
    "    7: 'USDT_SAN',\n",
    "    8: 'USDT_EOS',\n",
    "    9: 'USDT_IOTA',\n",
    "    10: 'USDT_ZEC',\n",
    "    11: 'USDT_ETC',\n",
    "    12: 'USDT_ETH',\n",
    "    13: 'USDT_XRP',\n",
    "    14: 'USDT_BTC',\n",
    "    15: 'USDT_DASH',\n",
    "    16: 'USDT_XMR',\n",
    "    17: 'USDT_LTC'\n",
    "    \n",
    "}\n",
    "\n",
    "# create a range for iteration\n",
    "iter_coins = np.arange(len(all_coins))\n",
    "\n",
    "subsets = []\n",
    "\n",
    "iter_coins_sum = int(len(iter_coins))\n",
    "iter_coins_list = list(iter_coins)\n",
    "\n",
    "for L in range(0, len(all_coins) + 1):\n",
    "    print('starting iteration:', L)\n",
    "    for subset in combinations(iter_coins_list, L):\n",
    "        subsets.append(subset)\n",
    "\n",
    "# get rid of first item (empty)\n",
    "subsets = list(subsets[1:])\n",
    "\n",
    "print('\\nThere are %s possible combos total!' % len(subsets))\n",
    "\n",
    "all_coin_combos = []\n",
    "\n",
    "for s in subsets:\n",
    "    combo = []\n",
    "    for ss in s:\n",
    "        combo.append(all_coins[ss])\n",
    "    all_coin_combos.append(combo)\n",
    "\n",
    "all_coin_combos = [c for c in all_coin_combos if len(c) >= 3]\n",
    "\n",
    "print(\"But we're only using %s combos\" % len(all_coin_combos))"
   ]
  },
  {
   "cell_type": "code",
   "execution_count": 102,
   "metadata": {},
   "outputs": [
    {
     "name": "stdout",
     "output_type": "stream",
     "text": [
      "\n"
     ]
    }
   ],
   "source": [
    "all_results = []\n",
    "\n",
    "for combo in tqdm_notebook(all_coin_combos):\n",
    "    \n",
    "    r = {}\n",
    "    \n",
    "    combo = [col.lower().replace('_', '') + '_close' for col in combo]\n",
    "    \n",
    "    ons = ONS()\n",
    "    ons = ons.run(scaled_prices[combo])\n",
    "    \n",
    "    r['coin_combo'] = str(combo)\n",
    "    r['profit'] = ons.profit_factor\n",
    "    r['sharpe'] = ons.sharpe\n",
    "    r['return'] = ons.annualized_return\n",
    "    r['max_drawdown'] = ons.max_drawdown\n",
    "    \n",
    "    all_results.append(r)\n",
    "    \n",
    "    # replaced with tqdm\n",
    "    #if len(all_results) % 1000 == 0: print(len(all_results))"
   ]
  },
  {
   "cell_type": "markdown",
   "metadata": {},
   "source": [
    "# Latest"
   ]
  },
  {
   "cell_type": "code",
   "execution_count": 127,
   "metadata": {
    "collapsed": true
   },
   "outputs": [],
   "source": [
    "results_df = pd.DataFrame(all_results).sort_values('return', ascending = False).reset_index(drop = True)"
   ]
  },
  {
   "cell_type": "code",
   "execution_count": 144,
   "metadata": {},
   "outputs": [
    {
     "data": {
      "text/html": [
       "<div>\n",
       "<style scoped>\n",
       "    .dataframe tbody tr th:only-of-type {\n",
       "        vertical-align: middle;\n",
       "    }\n",
       "\n",
       "    .dataframe tbody tr th {\n",
       "        vertical-align: top;\n",
       "    }\n",
       "\n",
       "    .dataframe thead th {\n",
       "        text-align: right;\n",
       "    }\n",
       "</style>\n",
       "<table border=\"1\" class=\"dataframe\">\n",
       "  <thead>\n",
       "    <tr style=\"text-align: right;\">\n",
       "      <th></th>\n",
       "      <th>coin_combo</th>\n",
       "      <th>max_drawdown</th>\n",
       "      <th>profit</th>\n",
       "      <th>return</th>\n",
       "      <th>sharpe</th>\n",
       "    </tr>\n",
       "  </thead>\n",
       "  <tbody>\n",
       "    <tr>\n",
       "      <th>30392</th>\n",
       "      <td>['usdtbch_close', 'usdteos_close', 'usdtzec_cl...</td>\n",
       "      <td>0.378269</td>\n",
       "      <td>4.066995</td>\n",
       "      <td>2.705494e+08</td>\n",
       "      <td>7.270668</td>\n",
       "    </tr>\n",
       "    <tr>\n",
       "      <th>77428</th>\n",
       "      <td>['usdtbch_close', 'usdteos_close', 'usdtzec_cl...</td>\n",
       "      <td>0.384219</td>\n",
       "      <td>3.761553</td>\n",
       "      <td>3.814458e+07</td>\n",
       "      <td>6.917587</td>\n",
       "    </tr>\n",
       "    <tr>\n",
       "      <th>109790</th>\n",
       "      <td>['usdtbch_close', 'usdteos_close', 'usdtbtc_cl...</td>\n",
       "      <td>0.376486</td>\n",
       "      <td>3.541018</td>\n",
       "      <td>1.217596e+07</td>\n",
       "      <td>6.831110</td>\n",
       "    </tr>\n",
       "    <tr>\n",
       "      <th>47261</th>\n",
       "      <td>['usdteos_close', 'usdtzec_close', 'usdtbtc_cl...</td>\n",
       "      <td>0.385138</td>\n",
       "      <td>3.388084</td>\n",
       "      <td>1.270854e+08</td>\n",
       "      <td>6.307854</td>\n",
       "    </tr>\n",
       "    <tr>\n",
       "      <th>29011</th>\n",
       "      <td>['usdtbch_close', 'usdtzec_close', 'usdtbtc_cl...</td>\n",
       "      <td>0.475349</td>\n",
       "      <td>3.261049</td>\n",
       "      <td>2.889854e+08</td>\n",
       "      <td>6.110164</td>\n",
       "    </tr>\n",
       "    <tr>\n",
       "      <th>66</th>\n",
       "      <td>['usdtbtg_close', 'usdtedo_close', 'usdtneo_cl...</td>\n",
       "      <td>0.438689</td>\n",
       "      <td>3.326817</td>\n",
       "      <td>3.632608e+10</td>\n",
       "      <td>6.052467</td>\n",
       "    </tr>\n",
       "    <tr>\n",
       "      <th>70</th>\n",
       "      <td>['usdtbtg_close', 'usdtedo_close', 'usdtneo_cl...</td>\n",
       "      <td>0.438563</td>\n",
       "      <td>3.324047</td>\n",
       "      <td>3.586362e+10</td>\n",
       "      <td>6.052055</td>\n",
       "    </tr>\n",
       "    <tr>\n",
       "      <th>74</th>\n",
       "      <td>['usdtbtg_close', 'usdtedo_close', 'usdtneo_cl...</td>\n",
       "      <td>0.438470</td>\n",
       "      <td>3.321799</td>\n",
       "      <td>3.550289e+10</td>\n",
       "      <td>6.051733</td>\n",
       "    </tr>\n",
       "    <tr>\n",
       "      <th>79</th>\n",
       "      <td>['usdtbtg_close', 'usdtedo_close', 'usdtneo_cl...</td>\n",
       "      <td>0.438358</td>\n",
       "      <td>3.318145</td>\n",
       "      <td>3.492200e+10</td>\n",
       "      <td>6.050968</td>\n",
       "    </tr>\n",
       "    <tr>\n",
       "      <th>76</th>\n",
       "      <td>['usdtbtg_close', 'usdtedo_close', 'usdtneo_cl...</td>\n",
       "      <td>0.439131</td>\n",
       "      <td>3.325206</td>\n",
       "      <td>3.538206e+10</td>\n",
       "      <td>6.046619</td>\n",
       "    </tr>\n",
       "  </tbody>\n",
       "</table>\n",
       "</div>"
      ],
      "text/plain": [
       "                                               coin_combo  max_drawdown  \\\n",
       "30392   ['usdtbch_close', 'usdteos_close', 'usdtzec_cl...      0.378269   \n",
       "77428   ['usdtbch_close', 'usdteos_close', 'usdtzec_cl...      0.384219   \n",
       "109790  ['usdtbch_close', 'usdteos_close', 'usdtbtc_cl...      0.376486   \n",
       "47261   ['usdteos_close', 'usdtzec_close', 'usdtbtc_cl...      0.385138   \n",
       "29011   ['usdtbch_close', 'usdtzec_close', 'usdtbtc_cl...      0.475349   \n",
       "66      ['usdtbtg_close', 'usdtedo_close', 'usdtneo_cl...      0.438689   \n",
       "70      ['usdtbtg_close', 'usdtedo_close', 'usdtneo_cl...      0.438563   \n",
       "74      ['usdtbtg_close', 'usdtedo_close', 'usdtneo_cl...      0.438470   \n",
       "79      ['usdtbtg_close', 'usdtedo_close', 'usdtneo_cl...      0.438358   \n",
       "76      ['usdtbtg_close', 'usdtedo_close', 'usdtneo_cl...      0.439131   \n",
       "\n",
       "          profit        return    sharpe  \n",
       "30392   4.066995  2.705494e+08  7.270668  \n",
       "77428   3.761553  3.814458e+07  6.917587  \n",
       "109790  3.541018  1.217596e+07  6.831110  \n",
       "47261   3.388084  1.270854e+08  6.307854  \n",
       "29011   3.261049  2.889854e+08  6.110164  \n",
       "66      3.326817  3.632608e+10  6.052467  \n",
       "70      3.324047  3.586362e+10  6.052055  \n",
       "74      3.321799  3.550289e+10  6.051733  \n",
       "79      3.318145  3.492200e+10  6.050968  \n",
       "76      3.325206  3.538206e+10  6.046619  "
      ]
     },
     "execution_count": 144,
     "metadata": {},
     "output_type": "execute_result"
    }
   ],
   "source": [
    "results_df.sort_values('sharpe', ascending = False)[:10]"
   ]
  },
  {
   "cell_type": "markdown",
   "metadata": {},
   "source": [
    "### HIGHEST RETURN:\n",
    "\n",
    "1) ['usdtbtg_close', 'usdtedo_close', 'usdtsan_close', 'usdtzec_close', 'usdtetc_close', 'usdtxrp_close', 'usdtbtc_close', 'usdtxmr_close']\n",
    "\n",
    "2) ['usdtbtg_close', 'usdtedo_close', 'usdtbch_close', 'usdtsan_close', 'usdtzec_close', 'usdtetc_close', 'usdtxrp_close', 'usdtbtc_close', 'usdtxmr_close']\n",
    "\n",
    "3) ['usdtbtg_close', 'usdtedo_close', 'usdtbch_close', 'usdtsan_close', 'usdtiota_close', 'usdtzec_close', 'usdtetc_close', 'usdtxrp_close', 'usdtbtc_close', 'usdtxmr_close']\n",
    "\n",
    "4) ['usdtbtg_close', 'usdtedo_close', 'usdtsan_close', 'usdtiota_close', 'usdtzec_close', 'usdtetc_close', 'usdtxrp_close', 'usdtbtc_close', 'usdtxmr_close']\n",
    "\n",
    "5) ['usdtbtg_close', 'usdtedo_close', 'usdtbch_close', 'usdtsan_close', 'usdtzec_close', 'usdtetc_close', 'usdtxrp_close', 'usdtbtc_close', 'usdtxmr_close', 'usdtltc_close']\n",
    "\n",
    "6) ['usdtbtg_close', 'usdtedo_close', 'usdtsan_close', 'usdtzec_close', 'usdtetc_close', 'usdtxrp_close', 'usdtbtc_close', 'usdtxmr_close', 'usdtltc_close']\n",
    "\n",
    "7) ['usdtbtg_close', 'usdtedo_close', 'usdtbch_close', 'usdtsan_close', 'usdtiota_close', 'usdtzec_close', 'usdtetc_close', 'usdtxrp_close', 'usdtbtc_close', 'usdtxmr_close', 'usdtltc_close']\n",
    "\n",
    "8) ['usdtbtg_close', 'usdtedo_close', 'usdtsan_close', 'usdtiota_close', 'usdtzec_close', 'usdtetc_close', 'usdtxrp_close', 'usdtbtc_close', 'usdtxmr_close', 'usdtltc_close']\n",
    "\n",
    "9) ['usdtbtg_close', 'usdtedo_close', 'usdtiota_close', 'usdtzec_close', 'usdtetc_close', 'usdtxrp_close', 'usdtbtc_close', 'usdtxmr_close']\n",
    "\n",
    "10) ['usdtbtg_close', 'usdtedo_close', 'usdtbch_close', 'usdtiota_close', 'usdtzec_close', 'usdtetc_close', 'usdtxrp_close', 'usdtbtc_close', 'usdtxmr_close']\n",
    "\n",
    "### HIGHEST SHARPE\n",
    "\n",
    "1) ['usdtbch_close', 'usdteos_close', 'usdtzec_close', 'usdtbtc_close']\n",
    "\n",
    "2) ['usdtbch_close', 'usdteos_close', 'usdtzec_close']\n",
    "\n",
    "3) ['usdtbch_close', 'usdteos_close', 'usdtbtc_close']\n",
    "\n",
    "4) ['usdteos_close', 'usdtzec_close', 'usdtbtc_close']\n",
    "\n",
    "5) ['usdtbch_close', 'usdtzec_close', 'usdtbtc_close']\n",
    "\n",
    "6) ['usdtbtg_close', 'usdtedo_close', 'usdtneo_close', 'usdtbch_close', 'usdtsan_close', 'usdteos_close', 'usdtiota_close', 'usdtzec_close', 'usdtetc_close', 'usdteth_close', 'usdtxrp_close', 'usdtbtc_close', 'usdtdash_close', 'usdtxmr_close', 'usdtltc_close']\n",
    "\n",
    "7) ['usdtbtg_close', 'usdtedo_close', 'usdtneo_close', 'usdtbch_close', 'usdtsan_close', 'usdteos_close', 'usdtiota_close', 'usdtetc_close', 'usdteth_close', 'usdtxrp_close', 'usdtbtc_close', 'usdtdash_close', 'usdtxmr_close', 'usdtltc_close']\n",
    "\n",
    "8) ['usdtbtg_close', 'usdtedo_close', 'usdtneo_close', 'usdtsan_close', 'usdteos_close', 'usdtiota_close', 'usdtzec_close', 'usdtetc_close', 'usdteth_close', 'usdtxrp_close', 'usdtbtc_close', 'usdtdash_close', 'usdtxmr_close', 'usdtltc_close']\n",
    "\n",
    "9) ['usdtbtg_close', 'usdtedo_close', 'usdtneo_close', 'usdtsan_close', 'usdteos_close', 'usdtiota_close', 'usdtetc_close', 'usdteth_close', 'usdtxrp_close', 'usdtbtc_close', 'usdtdash_close', 'usdtxmr_close', 'usdtltc_close']\n",
    "\n",
    "10) ['usdtbtg_close', 'usdtedo_close', 'usdtneo_close', 'usdtsan_close', 'usdtiota_close', 'usdtzec_close', 'usdtetc_close', 'usdteth_close', 'usdtxrp_close', 'usdtbtc_close', 'usdtdash_close', 'usdtxmr_close', 'usdtltc_close']"
   ]
  },
  {
   "cell_type": "code",
   "execution_count": null,
   "metadata": {
    "collapsed": true
   },
   "outputs": [],
   "source": []
  },
  {
   "cell_type": "code",
   "execution_count": 156,
   "metadata": {},
   "outputs": [
    {
     "data": {
      "text/plain": [
       "\"['usdtbtg_close', 'usdtedo_close', 'usdtneo_close', 'usdtsan_close', 'usdtiota_close', 'usdtzec_close', 'usdtetc_close', 'usdteth_close', 'usdtxrp_close', 'usdtbtc_close', 'usdtdash_close', 'usdtxmr_close', 'usdtltc_close']\""
      ]
     },
     "execution_count": 156,
     "metadata": {},
     "output_type": "execute_result"
    }
   ],
   "source": [
    "results_df.loc[76].coin_combo"
   ]
  },
  {
   "cell_type": "code",
   "execution_count": null,
   "metadata": {
    "collapsed": true
   },
   "outputs": [],
   "source": []
  },
  {
   "cell_type": "markdown",
   "metadata": {},
   "source": [
    "# Using My Trading Simulation"
   ]
  },
  {
   "cell_type": "code",
   "execution_count": 66,
   "metadata": {},
   "outputs": [
    {
     "name": "stdout",
     "output_type": "stream",
     "text": [
      "Number of combos: 261972\n"
     ]
    }
   ],
   "source": [
    "model_sim = pd.read_csv('ons_portfolio_finder_export_2018-01-21.csv')\n",
    "model_sim = model_sim.drop('Unnamed: 0', 1)\n",
    "\n",
    "print('Number of combos:', model_sim.shape[0])"
   ]
  },
  {
   "cell_type": "code",
   "execution_count": 67,
   "metadata": {},
   "outputs": [
    {
     "name": "stdout",
     "output_type": "stream",
     "text": [
      "Number of Combos: 15245\n"
     ]
    }
   ],
   "source": [
    "top_return = model_sim.iloc[:10000,:].coin_combo.tolist()\n",
    "top_sharpe = model_sim.sort_values('sharpe', ascending = False).reset_index(drop = True).iloc[:10000,:].coin_combo.tolist()\n",
    "\n",
    "top_combos = list(set(top_return + top_sharpe))\n",
    "\n",
    "print('Number of Combos:', len(top_combos))"
   ]
  },
  {
   "cell_type": "code",
   "execution_count": 13,
   "metadata": {
    "collapsed": true
   },
   "outputs": [],
   "source": [
    "# from random import choice\n",
    "# s = [choice(top_combos) for i in range(10)]"
   ]
  },
  {
   "cell_type": "code",
   "execution_count": 68,
   "metadata": {},
   "outputs": [
    {
     "name": "stderr",
     "output_type": "stream",
     "text": [
      "/Users/zach-eberhart/anaconda/lib/python3.5/site-packages/ipykernel/__main__.py:101: FutureWarning: pd.expanding_max is deprecated for Series and will be removed in a future version, replace with \n",
      "\tSeries.expanding(min_periods=1).max()\n"
     ]
    },
    {
     "name": "stdout",
     "output_type": "stream",
     "text": [
      "\n"
     ]
    }
   ],
   "source": [
    "all_results_manual = []\n",
    "\n",
    "#for combo in tqdm_notebook(top_combos):\n",
    "for combo in tqdm_notebook(top_combos):\n",
    "    \n",
    "    r = {}\n",
    "    \n",
    "    combo = eval(combo)\n",
    "    \n",
    "    sim_results = trading_simulation(scaled_prices[combo].copy(),\n",
    "                                     init_capital = 100000,\n",
    "                                     train_window = 14,\n",
    "                                     trading_fee = 0.0025,\n",
    "                                     progress_print = 250\n",
    "                                    )\n",
    "    \n",
    "    sim_performance = performance_summary(sim_results)\n",
    "    \n",
    "    r['coin_combo'] = str(combo)\n",
    "    r['return'] = float(sim_performance[0])\n",
    "    r['sharpe'] = float(sim_performance[1])\n",
    "    \n",
    "    #print(sim_performance)\n",
    "    \n",
    "    all_results_manual.append(r)\n",
    "    \n",
    "    # free memory\n",
    "    del sim_results, sim_performance"
   ]
  },
  {
   "cell_type": "code",
   "execution_count": 70,
   "metadata": {},
   "outputs": [],
   "source": [
    "# custom_sim_portfolio_perf = pd.DataFrame(all_results_manual)\n",
    "# custom_sim_portfolio_perf.to_csv('ons_portfolio_finder_export_CUSTOMSIM_2018-01-23.csv')"
   ]
  },
  {
   "cell_type": "code",
   "execution_count": 73,
   "metadata": {},
   "outputs": [
    {
     "data": {
      "text/html": [
       "<div>\n",
       "<style scoped>\n",
       "    .dataframe tbody tr th:only-of-type {\n",
       "        vertical-align: middle;\n",
       "    }\n",
       "\n",
       "    .dataframe tbody tr th {\n",
       "        vertical-align: top;\n",
       "    }\n",
       "\n",
       "    .dataframe thead th {\n",
       "        text-align: right;\n",
       "    }\n",
       "</style>\n",
       "<table border=\"1\" class=\"dataframe\">\n",
       "  <thead>\n",
       "    <tr style=\"text-align: right;\">\n",
       "      <th></th>\n",
       "      <th>coin_combo</th>\n",
       "      <th>return</th>\n",
       "      <th>sharpe</th>\n",
       "    </tr>\n",
       "  </thead>\n",
       "  <tbody>\n",
       "    <tr>\n",
       "      <th>13315</th>\n",
       "      <td>['usdtbch_close', 'usdteos_close', 'usdtbtc_cl...</td>\n",
       "      <td>33.404556</td>\n",
       "      <td>0.936932</td>\n",
       "    </tr>\n",
       "    <tr>\n",
       "      <th>13124</th>\n",
       "      <td>['usdtbch_close', 'usdteos_close', 'usdtzec_cl...</td>\n",
       "      <td>46.024094</td>\n",
       "      <td>0.933064</td>\n",
       "    </tr>\n",
       "    <tr>\n",
       "      <th>4734</th>\n",
       "      <td>['usdtbch_close', 'usdteos_close', 'usdtzec_cl...</td>\n",
       "      <td>36.165637</td>\n",
       "      <td>0.911083</td>\n",
       "    </tr>\n",
       "    <tr>\n",
       "      <th>13125</th>\n",
       "      <td>['usdteos_close', 'usdtzec_close', 'usdtbtc_cl...</td>\n",
       "      <td>39.631235</td>\n",
       "      <td>0.874999</td>\n",
       "    </tr>\n",
       "    <tr>\n",
       "      <th>3772</th>\n",
       "      <td>['usdtsan_close', 'usdtzec_close', 'usdtxmr_cl...</td>\n",
       "      <td>59.194627</td>\n",
       "      <td>0.848855</td>\n",
       "    </tr>\n",
       "  </tbody>\n",
       "</table>\n",
       "</div>"
      ],
      "text/plain": [
       "                                              coin_combo     return    sharpe\n",
       "13315  ['usdtbch_close', 'usdteos_close', 'usdtbtc_cl...  33.404556  0.936932\n",
       "13124  ['usdtbch_close', 'usdteos_close', 'usdtzec_cl...  46.024094  0.933064\n",
       "4734   ['usdtbch_close', 'usdteos_close', 'usdtzec_cl...  36.165637  0.911083\n",
       "13125  ['usdteos_close', 'usdtzec_close', 'usdtbtc_cl...  39.631235  0.874999\n",
       "3772   ['usdtsan_close', 'usdtzec_close', 'usdtxmr_cl...  59.194627  0.848855"
      ]
     },
     "execution_count": 73,
     "metadata": {},
     "output_type": "execute_result"
    }
   ],
   "source": [
    "custom_sim_portfolio_perf.sort_values('sharpe', ascending = False).head()"
   ]
  },
  {
   "cell_type": "code",
   "execution_count": 76,
   "metadata": {},
   "outputs": [
    {
     "data": {
      "text/plain": [
       "<matplotlib.axes._subplots.AxesSubplot at 0x1217ffac8>"
      ]
     },
     "execution_count": 76,
     "metadata": {},
     "output_type": "execute_result"
    },
    {
     "data": {
      "image/png": "[encoded data removed]",
      "text/plain": [
       "<matplotlib.figure.Figure at 0x1217d3eb8>"
      ]
     },
     "metadata": {},
     "output_type": "display_data"
    }
   ],
   "source": [
    "custom_sim_portfolio_perf.plot('sharpe', 'return', kind = 'scatter')"
   ]
  },
  {
   "cell_type": "code",
   "execution_count": 81,
   "metadata": {},
   "outputs": [
    {
     "data": {
      "text/html": [
       "<div>\n",
       "<style scoped>\n",
       "    .dataframe tbody tr th:only-of-type {\n",
       "        vertical-align: middle;\n",
       "    }\n",
       "\n",
       "    .dataframe tbody tr th {\n",
       "        vertical-align: top;\n",
       "    }\n",
       "\n",
       "    .dataframe thead th {\n",
       "        text-align: right;\n",
       "    }\n",
       "</style>\n",
       "<table border=\"1\" class=\"dataframe\">\n",
       "  <thead>\n",
       "    <tr style=\"text-align: right;\">\n",
       "      <th></th>\n",
       "      <th>coin_combo</th>\n",
       "      <th>return</th>\n",
       "      <th>sharpe</th>\n",
       "    </tr>\n",
       "  </thead>\n",
       "  <tbody>\n",
       "    <tr>\n",
       "      <th>1229</th>\n",
       "      <td>['usdtbtg_close', 'usdtedo_close', 'usdtneo_cl...</td>\n",
       "      <td>437.818893</td>\n",
       "      <td>0.614020</td>\n",
       "    </tr>\n",
       "    <tr>\n",
       "      <th>1563</th>\n",
       "      <td>['usdtbtg_close', 'usdtedo_close', 'usdtneo_cl...</td>\n",
       "      <td>441.372336</td>\n",
       "      <td>0.603644</td>\n",
       "    </tr>\n",
       "    <tr>\n",
       "      <th>2567</th>\n",
       "      <td>['usdtbtg_close', 'usdtedo_close', 'usdtneo_cl...</td>\n",
       "      <td>434.881796</td>\n",
       "      <td>0.620205</td>\n",
       "    </tr>\n",
       "    <tr>\n",
       "      <th>2642</th>\n",
       "      <td>['usdtbtg_close', 'usdtedo_close', 'usdtneo_cl...</td>\n",
       "      <td>438.674062</td>\n",
       "      <td>0.611933</td>\n",
       "    </tr>\n",
       "    <tr>\n",
       "      <th>6675</th>\n",
       "      <td>['usdtbtg_close', 'usdtedo_close', 'usdtneo_cl...</td>\n",
       "      <td>431.229106</td>\n",
       "      <td>0.605986</td>\n",
       "    </tr>\n",
       "    <tr>\n",
       "      <th>6990</th>\n",
       "      <td>['usdtbtg_close', 'usdtedo_close', 'usdtneo_cl...</td>\n",
       "      <td>436.504285</td>\n",
       "      <td>0.616311</td>\n",
       "    </tr>\n",
       "    <tr>\n",
       "      <th>7324</th>\n",
       "      <td>['usdtbtg_close', 'usdtedo_close', 'usdtneo_cl...</td>\n",
       "      <td>432.634348</td>\n",
       "      <td>0.604564</td>\n",
       "    </tr>\n",
       "    <tr>\n",
       "      <th>7415</th>\n",
       "      <td>['usdtbtg_close', 'usdtedo_close', 'usdtneo_cl...</td>\n",
       "      <td>440.703257</td>\n",
       "      <td>0.604867</td>\n",
       "    </tr>\n",
       "    <tr>\n",
       "      <th>7454</th>\n",
       "      <td>['usdtbtg_close', 'usdtedo_close', 'usdtneo_cl...</td>\n",
       "      <td>432.764864</td>\n",
       "      <td>0.622868</td>\n",
       "    </tr>\n",
       "    <tr>\n",
       "      <th>7536</th>\n",
       "      <td>['usdtbtg_close', 'usdtedo_close', 'usdtneo_cl...</td>\n",
       "      <td>431.452004</td>\n",
       "      <td>0.605548</td>\n",
       "    </tr>\n",
       "    <tr>\n",
       "      <th>8495</th>\n",
       "      <td>['usdtbtg_close', 'usdtedo_close', 'usdtneo_cl...</td>\n",
       "      <td>411.496711</td>\n",
       "      <td>0.600676</td>\n",
       "    </tr>\n",
       "    <tr>\n",
       "      <th>8704</th>\n",
       "      <td>['usdtbtg_close', 'usdtedo_close', 'usdtneo_cl...</td>\n",
       "      <td>429.595619</td>\n",
       "      <td>0.606771</td>\n",
       "    </tr>\n",
       "    <tr>\n",
       "      <th>9335</th>\n",
       "      <td>['usdtbtg_close', 'usdtedo_close', 'usdtneo_cl...</td>\n",
       "      <td>429.584004</td>\n",
       "      <td>0.607516</td>\n",
       "    </tr>\n",
       "    <tr>\n",
       "      <th>9685</th>\n",
       "      <td>['usdtbtg_close', 'usdtedo_close', 'usdtneo_cl...</td>\n",
       "      <td>407.197127</td>\n",
       "      <td>0.605459</td>\n",
       "    </tr>\n",
       "    <tr>\n",
       "      <th>10183</th>\n",
       "      <td>['usdtbtg_close', 'usdtedo_close', 'usdtneo_cl...</td>\n",
       "      <td>406.048635</td>\n",
       "      <td>0.606226</td>\n",
       "    </tr>\n",
       "    <tr>\n",
       "      <th>10376</th>\n",
       "      <td>['usdtbtg_close', 'usdtedo_close', 'usdtneo_cl...</td>\n",
       "      <td>410.334546</td>\n",
       "      <td>0.601530</td>\n",
       "    </tr>\n",
       "    <tr>\n",
       "      <th>10650</th>\n",
       "      <td>['usdtbtg_close', 'usdtedo_close', 'usdtneo_cl...</td>\n",
       "      <td>428.359313</td>\n",
       "      <td>0.609631</td>\n",
       "    </tr>\n",
       "    <tr>\n",
       "      <th>12055</th>\n",
       "      <td>['usdtbtg_close', 'usdtedo_close', 'usdtneo_cl...</td>\n",
       "      <td>437.507926</td>\n",
       "      <td>0.614018</td>\n",
       "    </tr>\n",
       "    <tr>\n",
       "      <th>12119</th>\n",
       "      <td>['usdtbtg_close', 'usdtedo_close', 'usdtneo_cl...</td>\n",
       "      <td>430.923735</td>\n",
       "      <td>0.606402</td>\n",
       "    </tr>\n",
       "    <tr>\n",
       "      <th>12915</th>\n",
       "      <td>['usdtbtg_close', 'usdtedo_close', 'usdtneo_cl...</td>\n",
       "      <td>429.226331</td>\n",
       "      <td>0.608653</td>\n",
       "    </tr>\n",
       "  </tbody>\n",
       "</table>\n",
       "</div>"
      ],
      "text/plain": [
       "                                              coin_combo      return    sharpe\n",
       "1229   ['usdtbtg_close', 'usdtedo_close', 'usdtneo_cl...  437.818893  0.614020\n",
       "1563   ['usdtbtg_close', 'usdtedo_close', 'usdtneo_cl...  441.372336  0.603644\n",
       "2567   ['usdtbtg_close', 'usdtedo_close', 'usdtneo_cl...  434.881796  0.620205\n",
       "2642   ['usdtbtg_close', 'usdtedo_close', 'usdtneo_cl...  438.674062  0.611933\n",
       "6675   ['usdtbtg_close', 'usdtedo_close', 'usdtneo_cl...  431.229106  0.605986\n",
       "6990   ['usdtbtg_close', 'usdtedo_close', 'usdtneo_cl...  436.504285  0.616311\n",
       "7324   ['usdtbtg_close', 'usdtedo_close', 'usdtneo_cl...  432.634348  0.604564\n",
       "7415   ['usdtbtg_close', 'usdtedo_close', 'usdtneo_cl...  440.703257  0.604867\n",
       "7454   ['usdtbtg_close', 'usdtedo_close', 'usdtneo_cl...  432.764864  0.622868\n",
       "7536   ['usdtbtg_close', 'usdtedo_close', 'usdtneo_cl...  431.452004  0.605548\n",
       "8495   ['usdtbtg_close', 'usdtedo_close', 'usdtneo_cl...  411.496711  0.600676\n",
       "8704   ['usdtbtg_close', 'usdtedo_close', 'usdtneo_cl...  429.595619  0.606771\n",
       "9335   ['usdtbtg_close', 'usdtedo_close', 'usdtneo_cl...  429.584004  0.607516\n",
       "9685   ['usdtbtg_close', 'usdtedo_close', 'usdtneo_cl...  407.197127  0.605459\n",
       "10183  ['usdtbtg_close', 'usdtedo_close', 'usdtneo_cl...  406.048635  0.606226\n",
       "10376  ['usdtbtg_close', 'usdtedo_close', 'usdtneo_cl...  410.334546  0.601530\n",
       "10650  ['usdtbtg_close', 'usdtedo_close', 'usdtneo_cl...  428.359313  0.609631\n",
       "12055  ['usdtbtg_close', 'usdtedo_close', 'usdtneo_cl...  437.507926  0.614018\n",
       "12119  ['usdtbtg_close', 'usdtedo_close', 'usdtneo_cl...  430.923735  0.606402\n",
       "12915  ['usdtbtg_close', 'usdtedo_close', 'usdtneo_cl...  429.226331  0.608653"
      ]
     },
     "execution_count": 81,
     "metadata": {},
     "output_type": "execute_result"
    }
   ],
   "source": [
    "custom_sim_portfolio_perf[(custom_sim_portfolio_perf['sharpe'] >= 0.6) & (custom_sim_portfolio_perf['return'] >= 400)]"
   ]
  },
  {
   "cell_type": "code",
   "execution_count": 90,
   "metadata": {},
   "outputs": [],
   "source": [
    "scaler = StandardScaler()\n",
    "\n",
    "norm_results = custom_sim_portfolio_perf.copy()\n",
    "\n",
    "# norm_results['return'] = scaler.fit_transform(custom_sim_portfolio_perf['return']).copy()\n",
    "# norm_results['sharpe'] = scaler.fit_transform(custom_sim_portfolio_perf['sharpe']).copy()"
   ]
  },
  {
   "cell_type": "code",
   "execution_count": 97,
   "metadata": {},
   "outputs": [
    {
     "data": {
      "image/png": "[encoded data removed]",
      "text/plain": [
       "<matplotlib.figure.Figure at 0x10d244160>"
      ]
     },
     "metadata": {},
     "output_type": "display_data"
    }
   ],
   "source": [
    "norm_results.plot('sharpe', 'return', kind = 'scatter', figsize = ((12, 8)));"
   ]
  },
  {
   "cell_type": "code",
   "execution_count": 99,
   "metadata": {},
   "outputs": [],
   "source": [
    "high_return_low_risk = norm_results[(norm_results['sharpe'] >= 1) & (norm_results['return'] >= 1)]"
   ]
  },
  {
   "cell_type": "code",
   "execution_count": 101,
   "metadata": {},
   "outputs": [
    {
     "name": "stderr",
     "output_type": "stream",
     "text": [
      "/Users/zach-eberhart/anaconda/lib/python3.5/site-packages/ipykernel/__main__.py:1: SettingWithCopyWarning: \n",
      "A value is trying to be set on a copy of a slice from a DataFrame.\n",
      "Try using .loc[row_indexer,col_indexer] = value instead\n",
      "\n",
      "See the caveats in the documentation: http://pandas.pydata.org/pandas-docs/stable/indexing.html#indexing-view-versus-copy\n",
      "  if __name__ == '__main__':\n"
     ]
    }
   ],
   "source": [
    "high_return_low_risk['score'] = high_return_low_risk['return'] + high_return_low_risk['sharpe']"
   ]
  },
  {
   "cell_type": "code",
   "execution_count": 104,
   "metadata": {},
   "outputs": [],
   "source": [
    "high_return_low_risk = high_return_low_risk.sort_values('score', ascending = False).reset_index(drop = True)"
   ]
  },
  {
   "cell_type": "code",
   "execution_count": 124,
   "metadata": {},
   "outputs": [
    {
     "data": {
      "text/html": [
       "<div>\n",
       "<style scoped>\n",
       "    .dataframe tbody tr th:only-of-type {\n",
       "        vertical-align: middle;\n",
       "    }\n",
       "\n",
       "    .dataframe tbody tr th {\n",
       "        vertical-align: top;\n",
       "    }\n",
       "\n",
       "    .dataframe thead th {\n",
       "        text-align: right;\n",
       "    }\n",
       "</style>\n",
       "<table border=\"1\" class=\"dataframe\">\n",
       "  <thead>\n",
       "    <tr style=\"text-align: right;\">\n",
       "      <th></th>\n",
       "      <th>coin_combo</th>\n",
       "      <th>return</th>\n",
       "      <th>sharpe</th>\n",
       "      <th>score</th>\n",
       "    </tr>\n",
       "  </thead>\n",
       "  <tbody>\n",
       "    <tr>\n",
       "      <th>0</th>\n",
       "      <td>['usdtbtg_close', 'usdtedo_close', 'usdtneo_cl...</td>\n",
       "      <td>1.111427</td>\n",
       "      <td>1.262391</td>\n",
       "      <td>2.373818</td>\n",
       "    </tr>\n",
       "    <tr>\n",
       "      <th>1</th>\n",
       "      <td>['usdtbtg_close', 'usdtedo_close', 'usdtneo_cl...</td>\n",
       "      <td>1.087039</td>\n",
       "      <td>1.275478</td>\n",
       "      <td>2.362517</td>\n",
       "    </tr>\n",
       "    <tr>\n",
       "      <th>2</th>\n",
       "      <td>['usdtbtg_close', 'usdtedo_close', 'usdtneo_cl...</td>\n",
       "      <td>1.068785</td>\n",
       "      <td>1.285056</td>\n",
       "      <td>2.353841</td>\n",
       "    </tr>\n",
       "    <tr>\n",
       "      <th>3</th>\n",
       "      <td>['usdtbtg_close', 'usdtedo_close', 'usdtneo_cl...</td>\n",
       "      <td>1.049772</td>\n",
       "      <td>1.295161</td>\n",
       "      <td>2.344933</td>\n",
       "    </tr>\n",
       "    <tr>\n",
       "      <th>4</th>\n",
       "      <td>['usdtbtg_close', 'usdtedo_close', 'usdtneo_cl...</td>\n",
       "      <td>1.018655</td>\n",
       "      <td>1.311352</td>\n",
       "      <td>2.330007</td>\n",
       "    </tr>\n",
       "  </tbody>\n",
       "</table>\n",
       "</div>"
      ],
      "text/plain": [
       "                                          coin_combo    return    sharpe  \\\n",
       "0  ['usdtbtg_close', 'usdtedo_close', 'usdtneo_cl...  1.111427  1.262391   \n",
       "1  ['usdtbtg_close', 'usdtedo_close', 'usdtneo_cl...  1.087039  1.275478   \n",
       "2  ['usdtbtg_close', 'usdtedo_close', 'usdtneo_cl...  1.068785  1.285056   \n",
       "3  ['usdtbtg_close', 'usdtedo_close', 'usdtneo_cl...  1.049772  1.295161   \n",
       "4  ['usdtbtg_close', 'usdtedo_close', 'usdtneo_cl...  1.018655  1.311352   \n",
       "\n",
       "      score  \n",
       "0  2.373818  \n",
       "1  2.362517  \n",
       "2  2.353841  \n",
       "3  2.344933  \n",
       "4  2.330007  "
      ]
     },
     "execution_count": 124,
     "metadata": {},
     "output_type": "execute_result"
    }
   ],
   "source": [
    "high_return_low_risk"
   ]
  },
  {
   "cell_type": "markdown",
   "metadata": {},
   "source": [
    "# Results\n",
    "\n",
    "## Return >= 1, Sharpe >= 1\n",
    "\n",
    "1) ['usdtbtg_close', 'usdtedo_close', 'usdtneo_close', 'usdtsan_close', 'usdteos_close', 'usdtiota_close', 'usdtetc_close', 'usdteth_close', 'usdtbtc_close', 'usdtdash_close', 'usdtxmr_close', 'usdtltc_close']\n",
    "\n",
    "2) ['usdtbtg_close', 'usdtedo_close', 'usdtneo_close', 'usdtsan_close', 'usdteos_close', 'usdtiota_close', 'usdtzec_close', 'usdtetc_close', 'usdteth_close', 'usdtbtc_close', 'usdtdash_close', 'usdtxmr_close', 'usdtltc_close']\n",
    "\n",
    "3) ['usdtbtg_close', 'usdtedo_close', 'usdtneo_close', 'usdtbch_close', 'usdtsan_close', 'usdteos_close', 'usdtiota_close', 'usdtetc_close', 'usdteth_close', 'usdtbtc_close', 'usdtdash_close', 'usdtxmr_close', 'usdtltc_close']\n",
    "\n",
    "4) ['usdtbtg_close', 'usdtedo_close', 'usdtneo_close', 'usdtbch_close', 'usdtsan_close', 'usdteos_close', 'usdtiota_close', 'usdtzec_close', 'usdtetc_close', 'usdteth_close', 'usdtbtc_close', 'usdtdash_close', 'usdtxmr_close', 'usdtltc_close']\n",
    "\n",
    "5) ['usdtbtg_close', 'usdtedo_close', 'usdtneo_close', 'usdtsan_close', 'usdtiota_close', 'usdtetc_close', 'usdteth_close', 'usdtbtc_close', 'usdtdash_close', 'usdtxmr_close', 'usdtltc_close']\n",
    "\n",
    "\n",
    "## Top Returns\n",
    "\n",
    "1) ['usdtbtg_close', 'usdtedo_close', 'usdtneo_close', 'usdtsan_close', 'usdteos_close', 'usdtiota_close', 'usdteth_close', 'usdtxrp_close', 'usdtbtc_close', 'usdtdash_close', 'usdtxmr_close', 'usdtltc_close']\n",
    "\n",
    "2) ['usdtbtg_close', 'usdtedo_close', 'usdtneo_close', 'usdtsan_close', 'usdteos_close', 'usdtiota_close', 'usdtzec_close', 'usdteth_close', 'usdtxrp_close', 'usdtbtc_close', 'usdtdash_close', 'usdtxmr_close', 'usdtltc_close']\n",
    "\n",
    "3) ['usdtbtg_close', 'usdtedo_close', 'usdtneo_close', 'usdtbch_close', 'usdtsan_close', 'usdteos_close', 'usdtiota_close', 'usdteth_close', 'usdtxrp_close', 'usdtbtc_close', 'usdtdash_close', 'usdtxmr_close', 'usdtltc_close']\n",
    "\n",
    "4) ['usdtbtg_close', 'usdtedo_close', 'usdtneo_close', 'usdtbch_close', 'usdtsan_close', 'usdteos_close', 'usdtiota_close', 'usdtzec_close', 'usdteth_close', 'usdtxrp_close', 'usdtbtc_close', 'usdtdash_close', 'usdtxmr_close', 'usdtltc_close']\n",
    "\n",
    "5) ['usdtbtg_close', 'usdtedo_close', 'usdtneo_close', 'usdtsan_close', 'usdtiota_close', 'usdteth_close', 'usdtxrp_close', 'usdtbtc_close', 'usdtdash_close', 'usdtxmr_close', 'usdtltc_close']"
   ]
  },
  {
   "cell_type": "code",
   "execution_count": 126,
   "metadata": {},
   "outputs": [],
   "source": [
    "high_returns_only = norm_results.sort_values('return', ascending = False).reset_index(drop = True)"
   ]
  },
  {
   "cell_type": "code",
   "execution_count": null,
   "metadata": {
    "collapsed": true
   },
   "outputs": [],
   "source": []
  },
  {
   "cell_type": "code",
   "execution_count": null,
   "metadata": {
    "collapsed": true
   },
   "outputs": [],
   "source": []
  },
  {
   "cell_type": "code",
   "execution_count": null,
   "metadata": {
    "collapsed": true
   },
   "outputs": [],
   "source": []
  },
  {
   "cell_type": "code",
   "execution_count": null,
   "metadata": {
    "collapsed": true
   },
   "outputs": [],
   "source": []
  }
 ],
 "metadata": {
  "kernelspec": {
   "display_name": "Python [default]",
   "language": "python",
   "name": "python3"
  },
  "language_info": {
   "codemirror_mode": {
    "name": "ipython",
    "version": 3
   },
   "file_extension": ".py",
   "mimetype": "text/x-python",
   "name": "python",
   "nbconvert_exporter": "python",
   "pygments_lexer": "ipython3",
   "version": "3.5.2"
  },
  "widgets": {
   "state": {
    "604e0574df45484a9b87f10d48159ce6": {
     "views": [
      {
       "cell_index": 36
      }
     ]
    }
   },
   "version": "1.2.0"
  }
 },
 "nbformat": 4,
 "nbformat_minor": 2
}
